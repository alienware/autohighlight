{
 "cells": [
  {
   "cell_type": "markdown",
   "metadata": {},
   "source": [
    "# Exploratory coding for I3D\n",
    "## Includes code snippets to transform input data into format compatible with a pretrained I3D model from DeepMind"
   ]
  },
  {
   "cell_type": "code",
   "execution_count": 1,
   "metadata": {},
   "outputs": [
    {
     "name": "stderr",
     "output_type": "stream",
     "text": [
      "Using TensorFlow backend.\n"
     ]
    }
   ],
   "source": [
    "# Generator class\n",
    "import video_generator\n",
    "\n",
    "# I3D model functions\n",
    "from i3d_inception import Inception_Inflated3d\n",
    "from i3d_inception import conv3d_bn\n",
    "\n",
    "# Keras\n",
    "from keras import backend as K\n",
    "from keras.models import Model\n",
    "from keras.layers import Activation\n",
    "from keras.layers import Add\n",
    "from keras.layers import Dropout\n",
    "from keras.layers import Reshape\n",
    "from keras.layers import Lambda"
   ]
  },
  {
   "cell_type": "code",
   "execution_count": 7,
   "metadata": {},
   "outputs": [],
   "source": [
    "# Directories where training and test sets reside\n",
    "\n",
    "test_dir = './data/val'\n",
    "train_dir = './data/train'\n",
    "dims = (250,224,224,3)\n",
    "batch_size = 4\n",
    "videogen = video_generator.VideoGenerator(train_dir, test_dir, dims, batch_size)"
   ]
  },
  {
   "cell_type": "code",
   "execution_count": 8,
   "metadata": {},
   "outputs": [],
   "source": [
    "# training/testing data generators and hyperparameters\n",
    "\n",
    "training_generator = videogen.generate(train_or_test='train')\n",
    "training_steps_per_epoch = len(videogen.filenames_train) // batch_size\n",
    "testing_generator = videogen.generate(train_or_test=\"val\")\n",
    "testing_steps_per_epoch = len(videogen.filenames_test) // batch_size"
   ]
  },
  {
   "cell_type": "code",
   "execution_count": 9,
   "metadata": {},
   "outputs": [],
   "source": [
    "# Input dimensions and dropout probability\n",
    "\n",
    "NUM_FRAMES=250\n",
    "FRAME_HEIGHT=224\n",
    "FRAME_WIDTH=224\n",
    "NUM_CLASSES=2\n",
    "dropout_prob=0.5"
   ]
  },
  {
   "cell_type": "code",
   "execution_count": 10,
   "metadata": {},
   "outputs": [],
   "source": [
    "# 1x1x1 3d convolution + logit function for video segment classification\n",
    "\n",
    "def generate_logit(x, last_conv3d_name, classes):\n",
    "    \n",
    "    x = conv3d_bn(x, classes, 1, 1, 1, padding='same',\n",
    "                   use_bias=True, use_activation_fn=False, use_bn=False, name=last_conv3d_name)\n",
    "\n",
    "    num_frames_remaining = int(x.shape[1])\n",
    "    x = Reshape((num_frames_remaining, classes))(x)\n",
    "\n",
    "    x = Lambda(lambda x: K.mean(x, axis=1, keepdims=False),\n",
    "               output_shape=lambda s: (s[0], s[2]))(x)    \n",
    "    \n",
    "    return x\n",
    "\n",
    "# Single stream 3D convolution model in RGB channel using ImageNet/Kinetics weights\n",
    "\n",
    "def RGB_model(NUM_FRAMES, FRAME_HEIGHT, FRAME_WIDTH, NUM_CLASSES, dropout_prob):\n",
    "\n",
    "    rgb_model = Inception_Inflated3d(\n",
    "        include_top=False,\n",
    "        weights='rgb_imagenet_and_kinetics',\n",
    "        input_shape=(NUM_FRAMES, FRAME_HEIGHT, FRAME_WIDTH, 3))\n",
    "\n",
    "    x1 = rgb_model.layers[-1].output\n",
    "    x1 = Dropout(dropout_prob)(x1)\n",
    "\n",
    "    x1 = generate_logit(x1, '1x1_Conv3d_rgb_logits', NUM_CLASSES)\n",
    "\n",
    "    x = Activation('softmax', name='prediction')(x1)\n",
    "\n",
    "    model = Model(input=rgb_model.input, output=x)\n",
    "\n",
    "    return model"
   ]
  },
  {
   "cell_type": "code",
   "execution_count": 11,
   "metadata": {},
   "outputs": [
    {
     "name": "stdout",
     "output_type": "stream",
     "text": [
      "WARNING:tensorflow:From /home/ubuntu/anaconda3/envs/tensorflow_p36/lib/python3.6/site-packages/tensorflow/python/framework/op_def_library.py:263: colocate_with (from tensorflow.python.framework.ops) is deprecated and will be removed in a future version.\n",
      "Instructions for updating:\n",
      "Colocations handled automatically by placer.\n",
      "WARNING:tensorflow:From /home/ubuntu/anaconda3/envs/tensorflow_p36/lib/python3.6/site-packages/keras/backend/tensorflow_backend.py:3445: calling dropout (from tensorflow.python.ops.nn_ops) with keep_prob is deprecated and will be removed in a future version.\n",
      "Instructions for updating:\n",
      "Please use `rate` instead of `keep_prob`. Rate should be set to `rate = 1 - keep_prob`.\n"
     ]
    },
    {
     "name": "stderr",
     "output_type": "stream",
     "text": [
      "/home/ubuntu/anaconda3/envs/tensorflow_p36/lib/python3.6/site-packages/ipykernel/__main__.py:32: UserWarning: Update your `Model` call to the Keras 2 API: `Model(inputs=Tensor(\"in..., outputs=Tensor(\"pr...)`\n"
     ]
    }
   ],
   "source": [
    "test_model = RGB_model(NUM_FRAMES, FRAME_HEIGHT, FRAME_WIDTH, NUM_CLASSES, dropout_prob)"
   ]
  },
  {
   "cell_type": "code",
   "execution_count": 12,
   "metadata": {},
   "outputs": [],
   "source": [
    "test_model.save('2019_0611_I3D_goaldetect_RGBonly_2epoch.h5')"
   ]
  },
  {
   "cell_type": "code",
   "execution_count": 14,
   "metadata": {},
   "outputs": [
    {
     "name": "stdout",
     "output_type": "stream",
     "text": [
      "total 48732\r\n",
      "drwxrwxr-x  6 ubuntu ubuntu     4096 Jun 11 23:39 .\r\n",
      "drwxr-xr-x 24 ubuntu ubuntu     4096 Jun 11 19:51 ..\r\n",
      "-rw-rw-r--  1 ubuntu ubuntu 49707184 Jun 11 23:39 2019_0611_I3D_goaldetect_RGBonly_2epoch.h5\r\n",
      "drwxrwxr-x  7 ubuntu ubuntu     4096 Jun 11 23:26 data\r\n",
      "drwxrwxr-x  8 ubuntu ubuntu     4096 Jun 11 19:34 .git\r\n",
      "-rw-rw-r--  1 ubuntu ubuntu     8003 Jun 11 23:39 I3D_end_to_end_dev.ipynb\r\n",
      "-rw-rw-r--  1 ubuntu ubuntu    98277 Jun 11 19:46 I3D_exploratory.ipynb\r\n",
      "-rw-rw-r--  1 ubuntu ubuntu    26405 Jun 11 19:34 i3d_inception.py\r\n",
      "drwxrwxr-x  2 ubuntu ubuntu     4096 Jun 11 19:48 .ipynb_checkpoints\r\n",
      "-rw-rw-r--  1 ubuntu ubuntu     1060 Jun 11 19:34 LICENSE\r\n",
      "-rw-------  1 ubuntu ubuntu        0 Jun 11 23:13 nohup.out\r\n",
      "drwxrwxr-x  2 ubuntu ubuntu     4096 Jun 11 19:48 __pycache__\r\n",
      "-rw-rw-r--  1 ubuntu ubuntu       63 Jun 11 23:11 something.py\r\n",
      "-rw-rw-r--  1 ubuntu ubuntu        0 Jun 11 23:14 train_single_stream_model.py\r\n",
      "-rw-rw-r--  1 ubuntu ubuntu     8537 Jun 11 23:31 train_test_split.ipynb\r\n",
      "-rw-rw-r--  1 ubuntu ubuntu     5921 Jun 11 19:34 video_generator_dev.ipynb\r\n",
      "-rw-rw-r--  1 ubuntu ubuntu     3655 Jun 11 19:34 video_generator.py\r\n"
     ]
    }
   ],
   "source": [
    "!ls -al"
   ]
  },
  {
   "cell_type": "code",
   "execution_count": 7,
   "metadata": {},
   "outputs": [],
   "source": [
    "# helper code to freeze layers\n",
    "def freeze_RGB_model(model, trainable=False):\n",
    "    freeze_layers = model.layers[:-5]\n",
    "    for layer in freeze_layers:\n",
    "        layer.trainable=trainable"
   ]
  },
  {
   "cell_type": "code",
   "execution_count": 8,
   "metadata": {},
   "outputs": [],
   "source": [
    "freeze_RGB_model(test_model)"
   ]
  },
  {
   "cell_type": "code",
   "execution_count": 9,
   "metadata": {},
   "outputs": [
    {
     "data": {
      "text/plain": [
       "False"
      ]
     },
     "execution_count": 9,
     "metadata": {},
     "output_type": "execute_result"
    }
   ],
   "source": [
    "test_model.layers[1].trainable"
   ]
  },
  {
   "cell_type": "code",
   "execution_count": 11,
   "metadata": {},
   "outputs": [],
   "source": [
    "test_model.compile(optimizer='adam',\n",
    "              loss='categorical_crossentropy',\n",
    "              metrics=['accuracy'])"
   ]
  },
  {
   "cell_type": "code",
   "execution_count": null,
   "metadata": {},
   "outputs": [
    {
     "name": "stdout",
     "output_type": "stream",
     "text": [
      "WARNING:tensorflow:From /home/ubuntu/anaconda3/envs/tensorflow_p36/lib/python3.6/site-packages/tensorflow/python/ops/math_ops.py:3066: to_int32 (from tensorflow.python.ops.math_ops) is deprecated and will be removed in a future version.\n",
      "Instructions for updating:\n",
      "Use tf.cast instead.\n",
      "Epoch 1/2\n",
      "639/639 [==============================] - 3831s 6s/step - loss: 0.5526 - acc: 0.7336 - val_loss: 0.5335 - val_acc: 0.6875\n",
      "Epoch 2/2\n",
      "180/639 [=======>......................] - ETA: 36:22 - loss: 0.4653 - acc: 0.7958"
     ]
    }
   ],
   "source": [
    "# Fit the model.\n",
    "\n",
    "test_model.fit_generator(training_generator,\n",
    "                         steps_per_epoch=training_steps_per_epoch,\n",
    "                         epochs=2,\n",
    "                         validation_data=testing_generator,\n",
    "                         validation_steps=testing_steps_per_epoch)"
   ]
  },
  {
   "cell_type": "code",
   "execution_count": null,
   "metadata": {},
   "outputs": [],
   "source": []
  },
  {
   "cell_type": "code",
   "execution_count": null,
   "metadata": {},
   "outputs": [],
   "source": [
    "class Annotator():\n",
    "    \n",
    "    def __init__(self, filepath, output_dir, model, model_params, step_size=5)\n",
    "    \n",
    "        self.model = model\n",
    "        self.model.load(model_params)\n",
    "    \n",
    "        self.src = cv2.VideoCapture(filepath)\n",
    "        self.output_dir = os. output_dir\n",
    "    y = []\n",
    "    \n",
    "    while True:\n",
    "        # some function to pull frames and create a numpy array\n",
    "        test_frame = frame_capture(src)\n",
    "        label = model.predict()\n",
    "        y.append(label)\n",
    "        \n",
    "        "
   ]
  }
 ],
 "metadata": {
  "kernelspec": {
   "display_name": "Environment (conda_tensorflow_p36)",
   "language": "python",
   "name": "conda_tensorflow_p36"
  },
  "language_info": {
   "codemirror_mode": {
    "name": "ipython",
    "version": 3
   },
   "file_extension": ".py",
   "mimetype": "text/x-python",
   "name": "python",
   "nbconvert_exporter": "python",
   "pygments_lexer": "ipython3",
   "version": "3.6.5"
  }
 },
 "nbformat": 4,
 "nbformat_minor": 2
}
