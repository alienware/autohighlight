{
 "cells": [
  {
   "cell_type": "markdown",
   "metadata": {},
   "source": [
    "# Week 2 Tuesday\n",
    "# June 11, 2019\n",
    "\n",
    "# train_val_test_split development notebook\n",
    "## Code to perform stratified split on class examples into train and test sets for use with generator class\n",
    "\n",
    "Input format:\n",
    "\n",
    "data ====== class1\n",
    "        |\n",
    "        |== class2\n",
    "        |\n",
    "        |== class3\n",
    "        \n",
    "Output format:\n",
    "\n",
    "data ====== train ===== class1\n",
    "        |            |\n",
    "        |            |= class2\n",
    "        |            |\n",
    "        |            |= class3\n",
    "        |\n",
    "        |== val ====== class1\n",
    "                     |\n",
    "                     |= class2\n",
    "                     |\n",
    "                     |= class3\n",
    "        \n",
    "        |== test ====== class1\n",
    "                     |\n",
    "                     |= class2\n",
    "                     |\n",
    "                     |= class3"
   ]
  },
  {
   "cell_type": "code",
   "execution_count": 10,
   "metadata": {},
   "outputs": [
    {
     "name": "stdout",
     "output_type": "stream",
     "text": [
      "goals  nongoals\r\n"
     ]
    }
   ],
   "source": [
    "!ls data"
   ]
  },
  {
   "cell_type": "code",
   "execution_count": 11,
   "metadata": {},
   "outputs": [],
   "source": [
    "import random\n",
    "import shutil\n",
    "import os"
   ]
  },
  {
   "cell_type": "code",
   "execution_count": 12,
   "metadata": {},
   "outputs": [],
   "source": [
    "def train_test_split(root='./data', classes=['goals', 'nongoals'], split_ratio=[0.8, 0.1, 0.1]):\n",
    "    \n",
    "    # make train and test directories\n",
    "    current_dir = os.listdir(root)\n",
    "    train_dir = os.path.join(root, 'train')\n",
    "    val_dir = os.path.join(root, 'val')\n",
    "    test_dir = os.path.join(root, 'test')    \n",
    "    \n",
    "    if 'train' not in current_dir:\n",
    "        os.mkdir(train_dir)\n",
    "\n",
    "    if 'val' not in current_dir:\n",
    "        os.mkdir(val_dir)        \n",
    "        \n",
    "    if 'test' not in current_dir:\n",
    "        os.mkdir(test_dir)\n",
    "    \n",
    "    train_dir_content = os.listdir(train_dir)\n",
    "    val_dir_content = os.listdir(val_dir)\n",
    "    test_dir_content = os.listdir(test_dir)\n",
    "    \n",
    "    for cls in classes:\n",
    "        cls_dir = os.path.join(root, cls)\n",
    "        print('Accessing files in ' + cls_dir)\n",
    "        cls_list = os.listdir(cls_dir)\n",
    "        assert len(cls_list) > 0\n",
    "        \n",
    "        random.shuffle(cls_list)\n",
    "        split_train = round(len(cls_list) * split_ratio[0])\n",
    "        split_train = max(0, split_train)\n",
    "        \n",
    "        split_test = len(cls_list) - round(len(cls_list) * split_ratio[2])\n",
    "        split_test = min(split_test, len(cls_list) - 1)\n",
    "        \n",
    "        cls_train_dir = os.path.join(train_dir, cls)\n",
    "        cls_val_dir = os.path.join(val_dir, cls)\n",
    "        cls_test_dir = os.path.join(test_dir, cls)\n",
    "        \n",
    "        if cls not in train_dir_content:\n",
    "            os.mkdir(cls_train_dir)\n",
    "\n",
    "        if cls not in val_dir_content:\n",
    "            os.mkdir(cls_val_dir)            \n",
    "            \n",
    "        if cls not in test_dir_content:\n",
    "            os.mkdir(cls_test_dir)\n",
    "        \n",
    "        cls_train_set = cls_list[:split_train]\n",
    "        cls_val_set = cls_list[split_train:split_test]\n",
    "        cls_test_set = cls_list[split_test:]\n",
    "        \n",
    "        for dir in cls_train_set:\n",
    "            shutil.copy2(os.path.join(cls_dir, dir), cls_train_dir)\n",
    "\n",
    "        for dir in cls_val_set:\n",
    "            shutil.copy2(os.path.join(cls_dir, dir), cls_val_dir)            \n",
    "            \n",
    "        for dir in cls_test_set:\n",
    "            shutil.copy2(os.path.join(cls_dir, dir), cls_test_dir)"
   ]
  },
  {
   "cell_type": "code",
   "execution_count": 13,
   "metadata": {},
   "outputs": [
    {
     "name": "stdout",
     "output_type": "stream",
     "text": [
      "Accessing files in ./data/goals\n",
      "Accessing files in ./data/nongoals\n"
     ]
    }
   ],
   "source": [
    "train_test_split(root='./data',\n",
    "                 classes=['goals', 'nongoals'],\n",
    "                 split_ratio = [0.8, 0.1, 0.1]\n",
    "                )"
   ]
  },
  {
   "cell_type": "code",
   "execution_count": 14,
   "metadata": {},
   "outputs": [
    {
     "name": "stdout",
     "output_type": "stream",
     "text": [
      "goals  nongoals  test  train  val\r\n"
     ]
    }
   ],
   "source": [
    "!ls ./data"
   ]
  },
  {
   "cell_type": "code",
   "execution_count": 18,
   "metadata": {},
   "outputs": [
    {
     "name": "stdout",
     "output_type": "stream",
     "text": [
      "0.mkv\t  1144.mkv  1404.mkv  1585.mkv\t394.mkv  589.mkv  71.mkv   892.mkv\r\n",
      "1002.mkv  115.mkv   1425.mkv  15.mkv\t396.mkv  58.mkv   727.mkv  8.mkv\r\n",
      "1014.mkv  1162.mkv  1434.mkv  166.mkv\t397.mkv  600.mkv  74.mkv   907.mkv\r\n",
      "1015.mkv  1171.mkv  1437.mkv  191.mkv\t417.mkv  61.mkv   752.mkv  90.mkv\r\n",
      "1031.mkv  1196.mkv  1438.mkv  198.mkv\t420.mkv  620.mkv  756.mkv  912.mkv\r\n",
      "1037.mkv  1202.mkv  1441.mkv  209.mkv\t425.mkv  627.mkv  758.mkv  914.mkv\r\n",
      "103.mkv   1230.mkv  1467.mkv  218.mkv\t431.mkv  632.mkv  763.mkv  916.mkv\r\n",
      "104.mkv   1242.mkv  1469.mkv  233.mkv\t441.mkv  63.mkv   785.mkv  926.mkv\r\n",
      "1050.mkv  1257.mkv  146.mkv   242.mkv\t456.mkv  640.mkv  789.mkv  933.mkv\r\n",
      "1055.mkv  1277.mkv  1489.mkv  247.mkv\t470.mkv  641.mkv  792.mkv  972.mkv\r\n",
      "1061.mkv  1289.mkv  1498.mkv  252.mkv\t486.mkv  644.mkv  7.mkv    983.mkv\r\n",
      "1074.mkv  1294.mkv  1506.mkv  278.mkv\t488.mkv  651.mkv  805.mkv  987.mkv\r\n",
      "1078.mkv  129.mkv   1517.mkv  286.mkv\t506.mkv  659.mkv  812.mkv  993.mkv\r\n",
      "1080.mkv  1308.mkv  1527.mkv  313.mkv\t512.mkv  661.mkv  81.mkv   996.mkv\r\n",
      "1082.mkv  1319.mkv  1540.mkv  320.mkv\t516.mkv  670.mkv  862.mkv\r\n",
      "1089.mkv  1327.mkv  1547.mkv  369.mkv\t528.mkv  675.mkv  865.mkv\r\n",
      "1092.mkv  1328.mkv  1548.mkv  370.mkv\t54.mkv\t 689.mkv  867.mkv\r\n",
      "1097.mkv  1342.mkv  1556.mkv  374.mkv\t553.mkv  690.mkv  86.mkv\r\n",
      "109.mkv   1360.mkv  1562.mkv  376.mkv\t571.mkv  708.mkv  875.mkv\r\n",
      "1102.mkv  1372.mkv  1566.mkv  379.mkv\t575.mkv  712.mkv  879.mkv\r\n",
      "1139.mkv  1395.mkv  1576.mkv  38.mkv\t586.mkv  713.mkv  884.mkv\r\n"
     ]
    }
   ],
   "source": [
    "!ls ./data/val/goals"
   ]
  },
  {
   "cell_type": "code",
   "execution_count": 22,
   "metadata": {},
   "outputs": [
    {
     "name": "stdout",
     "output_type": "stream",
     "text": [
      "Training set: 1282 goals, 1277 non-goals\n",
      "Validation set: 161 goals, 159 non-goals\n",
      "Testing set: 160 goals, 160 non-goals\n"
     ]
    }
   ],
   "source": [
    "goals_train = len(os.listdir('./data/train/goals'))\n",
    "nongoals_train = len(os.listdir('./data/train/nongoals'))\n",
    "\n",
    "goals_val = len(os.listdir('./data/val/goals'))\n",
    "nongoals_val = len(os.listdir('./data/val/nongoals'))\n",
    "\n",
    "goals_test = len(os.listdir('./data/test/goals'))\n",
    "nongoals_test = len(os.listdir('./data/test/nongoals'))\n",
    "\n",
    "print(\"Training set: {} goals, {} non-goals\".format(goals_train, nongoals_train))\n",
    "print(\"Validation set: {} goals, {} non-goals\".format(goals_val, nongoals_val))\n",
    "print(\"Testing set: {} goals, {} non-goals\".format(goals_test, nongoals_test))"
   ]
  },
  {
   "cell_type": "code",
   "execution_count": null,
   "metadata": {},
   "outputs": [],
   "source": []
  }
 ],
 "metadata": {
  "kernelspec": {
   "display_name": "Python 3",
   "language": "python",
   "name": "python3"
  },
  "language_info": {
   "codemirror_mode": {
    "name": "ipython",
    "version": 3
   },
   "file_extension": ".py",
   "mimetype": "text/x-python",
   "name": "python",
   "nbconvert_exporter": "python",
   "pygments_lexer": "ipython3",
   "version": "3.6.5"
  }
 },
 "nbformat": 4,
 "nbformat_minor": 2
}
