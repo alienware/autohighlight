{
 "cells": [
  {
   "cell_type": "markdown",
   "metadata": {},
   "source": [
    "# Development code for video scanner\n",
    "\n",
    "## Purpose: make a VideoScanner object which does the following:\n",
    "\n",
    "> ### 1. When instantiated, calls a specified model and weight\n",
    "> ### 2. Implements 'annotate' method, which scans through a video (using a helper method) to label frames based on model output"
   ]
  },
  {
   "cell_type": "code",
   "execution_count": null,
   "metadata": {},
   "outputs": [],
   "source": [
    "import "
   ]
  },
  {
   "cell_type": "code",
   "execution_count": null,
   "metadata": {},
   "outputs": [],
   "source": [
    "class VideoScanner():\n",
    "    \n",
    "    def __init__(self, model, weights):\n",
    "        self.model = model\n",
    "        self.model.load(weights)\n",
    "        \n",
    "    def annotate(self, src, output_dir):\n",
    "        vid = cv2.VideoCapture(src)\n",
    "        \n",
    "        \n",
    "            self.model.predict(vid)"
   ]
  }
 ],
 "metadata": {
  "kernelspec": {
   "display_name": "Python 3",
   "language": "python",
   "name": "python3"
  },
  "language_info": {
   "codemirror_mode": {
    "name": "ipython",
    "version": 3
   },
   "file_extension": ".py",
   "mimetype": "text/x-python",
   "name": "python",
   "nbconvert_exporter": "python",
   "pygments_lexer": "ipython3",
   "version": "3.7.3"
  }
 },
 "nbformat": 4,
 "nbformat_minor": 2
}
