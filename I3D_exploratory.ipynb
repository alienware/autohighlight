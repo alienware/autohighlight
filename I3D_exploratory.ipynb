{
 "cells": [
  {
   "cell_type": "markdown",
   "metadata": {},
   "source": [
    "# Exploratory coding for I3D\n",
    "## Includes code snippets to transform input data into format compatible with a pretrained I3D model from DeepMind"
   ]
  },
  {
   "cell_type": "code",
   "execution_count": 6,
   "metadata": {},
   "outputs": [
    {
     "name": "stdout",
     "output_type": "stream",
     "text": [
      "label_map.txt\t\t\tv_CricketShot_g04_c01_rgb.gif\r\n",
      "v_CricketShot_g04_c01_flow.gif\tv_CricketShot_g04_c01_rgb.npy\r\n",
      "v_CricketShot_g04_c01_flow.npy\r\n"
     ]
    }
   ],
   "source": [
    "!ls ./data"
   ]
  },
  {
   "cell_type": "code",
   "execution_count": 7,
   "metadata": {},
   "outputs": [],
   "source": [
    "import numpy as np"
   ]
  },
  {
   "cell_type": "markdown",
   "metadata": {},
   "source": [
    "Input is of dimension (batch x frames x axis1 x axis2 x channels)"
   ]
  },
  {
   "cell_type": "code",
   "execution_count": 8,
   "metadata": {},
   "outputs": [],
   "source": [
    "flow_matrix=np.load('./data/v_CricketShot_g04_c01_flow.npy')"
   ]
  },
  {
   "cell_type": "code",
   "execution_count": 9,
   "metadata": {},
   "outputs": [
    {
     "data": {
      "text/plain": [
       "(1, 79, 224, 224, 2)"
      ]
     },
     "execution_count": 9,
     "metadata": {},
     "output_type": "execute_result"
    }
   ],
   "source": [
    "flow_matrix.shape"
   ]
  },
  {
   "cell_type": "code",
   "execution_count": 10,
   "metadata": {},
   "outputs": [],
   "source": [
    "rgb_matrix=np.load('./data/v_CricketShot_g04_c01_rgb.npy')"
   ]
  },
  {
   "cell_type": "code",
   "execution_count": 11,
   "metadata": {},
   "outputs": [
    {
     "data": {
      "text/plain": [
       "(1, 79, 224, 224, 3)"
      ]
     },
     "execution_count": 11,
     "metadata": {},
     "output_type": "execute_result"
    }
   ],
   "source": [
    "rgb_matrix.shape"
   ]
  },
  {
   "cell_type": "code",
   "execution_count": 13,
   "metadata": {},
   "outputs": [
    {
     "name": "stdout",
     "output_type": "stream",
     "text": [
      "Using TensorFlow backend.\n",
      "WARNING:tensorflow:From /home/dshin1331/anaconda3/lib/python3.7/site-packages/tensorflow/python/framework/op_def_library.py:263: colocate_with (from tensorflow.python.framework.ops) is deprecated and will be removed in a future version.\n",
      "Instructions for updating:\n",
      "Colocations handled automatically by placer.\n",
      "2019-06-10 16:00:30.804895: I tensorflow/core/platform/cpu_feature_guard.cc:141] Your CPU supports instructions that this TensorFlow binary was not compiled to use: SSE4.1 SSE4.2 AVX AVX2 FMA\n",
      "2019-06-10 16:00:30.826687: I tensorflow/core/platform/profile_utils/cpu_utils.cc:94] CPU Frequency: 2808000000 Hz\n",
      "2019-06-10 16:00:30.827320: I tensorflow/compiler/xla/service/service.cc:150] XLA service 0x55aa848cb440 executing computations on platform Host. Devices:\n",
      "2019-06-10 16:00:30.827377: I tensorflow/compiler/xla/service/service.cc:158]   StreamExecutor device (0): <undefined>, <undefined>\n",
      "2019-06-10 16:00:30.889422: I tensorflow/stream_executor/cuda/cuda_gpu_executor.cc:998] successful NUMA node read from SysFS had negative value (-1), but there must be at least one NUMA node, so returning NUMA node zero\n",
      "2019-06-10 16:00:30.889917: I tensorflow/compiler/xla/service/service.cc:150] XLA service 0x55aa849a4ff0 executing computations on platform CUDA. Devices:\n",
      "2019-06-10 16:00:30.889935: I tensorflow/compiler/xla/service/service.cc:158]   StreamExecutor device (0): GeForce GTX 1060, Compute Capability 6.1\n",
      "2019-06-10 16:00:30.890166: I tensorflow/core/common_runtime/gpu/gpu_device.cc:1433] Found device 0 with properties: \n",
      "name: GeForce GTX 1060 major: 6 minor: 1 memoryClockRate(GHz): 1.6705\n",
      "pciBusID: 0000:01:00.0\n",
      "totalMemory: 5.94GiB freeMemory: 5.56GiB\n",
      "2019-06-10 16:00:30.890193: I tensorflow/core/common_runtime/gpu/gpu_device.cc:1512] Adding visible gpu devices: 0\n",
      "2019-06-10 16:00:30.890891: I tensorflow/core/common_runtime/gpu/gpu_device.cc:984] Device interconnect StreamExecutor with strength 1 edge matrix:\n",
      "2019-06-10 16:00:30.890902: I tensorflow/core/common_runtime/gpu/gpu_device.cc:990]      0 \n",
      "2019-06-10 16:00:30.890925: I tensorflow/core/common_runtime/gpu/gpu_device.cc:1003] 0:   N \n",
      "2019-06-10 16:00:30.891107: I tensorflow/core/common_runtime/gpu/gpu_device.cc:1115] Created TensorFlow device (/job:localhost/replica:0/task:0/device:GPU:0 with 5397 MB memory) -> physical GPU (device: 0, name: GeForce GTX 1060, pci bus id: 0000:01:00.0, compute capability: 6.1)\n",
      "2019-06-10 16:00:35.423159: I tensorflow/stream_executor/dso_loader.cc:152] successfully opened CUDA library libcublas.so.10.0 locally\n",
      "/home/dshin1331/Documents/keras-kinetics-i3d/i3d_inception.py:101: UserWarning: This model usually expects 1 or 3 input channels. However, it was passed an input_shape with 2 input channels.\n",
      "  str(input_shape[-1]) + ' input channels.')\n",
      "Downloading data from https://github.com/dlpbc/keras-kinetics-i3d/releases/download/v0.2/flow_inception_i3d_imagenet_and_kinetics_tf_dim_ordering_tf_kernels.h5\n",
      "51159040/51153776 [==============================] - 4s 0us/step\n",
      "\n",
      "Norm of logits: 138.468689\n",
      "\n",
      "Top classes and probabilities\n",
      "1.0 41.813686 playing cricket\n",
      "1.4971506e-09 21.493984 hurling (sport)\n",
      "3.8430795e-10 20.13411 catching or throwing baseball\n",
      "1.5492183e-10 19.225586 catching or throwing softball\n",
      "1.13601e-10 18.915358 hitting baseball\n",
      "8.801105e-11 18.660128 playing tennis\n",
      "2.4415418e-11 17.37788 playing kickball\n",
      "1.1531949e-11 16.627787 playing squash or racquetball\n",
      "6.131877e-12 15.996166 shooting goal (soccer)\n",
      "4.3917144e-12 15.662385 hammer throw\n",
      "2.2134057e-12 14.977198 golf putting\n",
      "1.630694e-12 14.671671 throwing discus\n",
      "1.5456012e-12 14.618078 javelin throw\n",
      "7.668974e-13 13.917263 pumping fist\n",
      "5.1928996e-13 13.527372 shot put\n",
      "4.2680933e-13 13.331247 celebrating\n",
      "2.7205202e-13 12.880903 applauding\n",
      "1.8356893e-13 12.4875 throwing ball\n",
      "1.6134481e-13 12.358454 dodgeball\n",
      "1.138834e-13 12.010085 tap dancing\n"
     ]
    }
   ],
   "source": [
    "!python evaluate_sample.py"
   ]
  },
  {
   "cell_type": "markdown",
   "metadata": {},
   "source": [
    "## Need to extract numpy frames from video clips using OpenCV\n",
    "\n",
    "## Generates two outputs:\n",
    "\n",
    "### 1) RGB output\n",
    "\n",
    "### 2) TV-L1 Optical Flow output (2 channels)"
   ]
  },
  {
   "cell_type": "code",
   "execution_count": 16,
   "metadata": {},
   "outputs": [],
   "source": [
    "import cv2\n",
    "import os\n",
    "import numpy as np"
   ]
  },
  {
   "cell_type": "code",
   "execution_count": 17,
   "metadata": {},
   "outputs": [
    {
     "name": "stdout",
     "output_type": "stream",
     "text": [
      "england_epl\t\t      README.md\r\n",
      "europe_uefa-champions-league  SoccerNet_V1.1_Commentaries.csv\r\n",
      "france_ligue-1\t\t      SoccerNet_V1.1_Features.csv\r\n",
      "germany_bundesliga\t      SoccerNet_V1.1_Labels.csv\r\n",
      "goals\t\t\t      SoccerNet_V1.1_Videos.csv\r\n",
      "italy_serie-a\t\t      spain_laliga\r\n",
      "nongoals\r\n"
     ]
    }
   ],
   "source": [
    "!ls ../SoccerNet-code/data/"
   ]
  },
  {
   "cell_type": "code",
   "execution_count": 78,
   "metadata": {},
   "outputs": [],
   "source": [
    "# code code snippet for TVL1 computation between frames\n",
    "\n",
    "def compute_TVL1(prev, curr, bound=15):\n",
    "    \"\"\"Compute the TV-L1 optical flow.\"\"\"\n",
    "    TVL1 = cv2.DualTVL1OpticalFlow_create()\n",
    "    flow = TVL1.calc(prev, curr, None)\n",
    "    \n",
    "    # clip to range [-20, 20]\n",
    "    np.clip(flow, -20, 20, out=flow)\n",
    "    \n",
    "    # normalize between -1 and 1\n",
    "    flow = flow/20\n",
    "\n",
    "    return flow"
   ]
  },
  {
   "cell_type": "code",
   "execution_count": null,
   "metadata": {},
   "outputs": [],
   "source": [
    "# Video generator code for data input\n",
    "\n",
    "\n",
    "\n"
   ]
  },
  {
   "cell_type": "code",
   "execution_count": 46,
   "metadata": {},
   "outputs": [
    {
     "ename": "error",
     "evalue": "OpenCV(3.4.2) /tmp/build/80754af9/opencv-suite_1535558553474/work/modules/imgproc/src/color.hpp:253: error: (-215:Assertion failed) VScn::contains(scn) && VDcn::contains(dcn) && VDepth::contains(depth) in function 'CvtHelper'\n",
     "output_type": "error",
     "traceback": [
      "\u001b[0;31m---------------------------------------------------------------------------\u001b[0m",
      "\u001b[0;31merror\u001b[0m                                     Traceback (most recent call last)",
      "\u001b[0;32m<ipython-input-46-5b6c9a6e2b77>\u001b[0m in \u001b[0;36m<module>\u001b[0;34m\u001b[0m\n\u001b[1;32m     12\u001b[0m \u001b[0mflow\u001b[0m \u001b[0;34m=\u001b[0m \u001b[0mcompute_TVL1\u001b[0m\u001b[0;34m(\u001b[0m\u001b[0mgray1\u001b[0m\u001b[0;34m,\u001b[0m \u001b[0mgray2\u001b[0m\u001b[0;34m,\u001b[0m \u001b[0;32mNone\u001b[0m\u001b[0;34m)\u001b[0m\u001b[0;34m\u001b[0m\u001b[0;34m\u001b[0m\u001b[0m\n\u001b[1;32m     13\u001b[0m \u001b[0mcv2\u001b[0m\u001b[0;34m.\u001b[0m\u001b[0mimwrite\u001b[0m\u001b[0;34m(\u001b[0m\u001b[0;34m'./'\u001b[0m \u001b[0;34m+\u001b[0m \u001b[0;34m'original'\u001b[0m \u001b[0;34m+\u001b[0m \u001b[0;34m'.png'\u001b[0m\u001b[0;34m,\u001b[0m \u001b[0mframe2\u001b[0m\u001b[0;34m)\u001b[0m\u001b[0;34m\u001b[0m\u001b[0;34m\u001b[0m\u001b[0m\n\u001b[0;32m---> 14\u001b[0;31m \u001b[0mflow_vis\u001b[0m \u001b[0;34m=\u001b[0m \u001b[0mcv2\u001b[0m\u001b[0;34m.\u001b[0m\u001b[0mcvtColor\u001b[0m\u001b[0;34m(\u001b[0m\u001b[0mflow\u001b[0m\u001b[0;34m,\u001b[0m \u001b[0mcv2\u001b[0m\u001b[0;34m.\u001b[0m\u001b[0mCOLOR_GRAY2RGB\u001b[0m\u001b[0;34m)\u001b[0m\u001b[0;34m\u001b[0m\u001b[0;34m\u001b[0m\u001b[0m\n\u001b[0m\u001b[1;32m     15\u001b[0m \u001b[0mcv2\u001b[0m\u001b[0;34m.\u001b[0m\u001b[0mimwrite\u001b[0m\u001b[0;34m(\u001b[0m\u001b[0;34m'./'\u001b[0m \u001b[0;34m+\u001b[0m \u001b[0;34m'flow'\u001b[0m \u001b[0;34m+\u001b[0m \u001b[0;34m'.png'\u001b[0m\u001b[0;34m,\u001b[0m \u001b[0mflow_vis\u001b[0m\u001b[0;34m)\u001b[0m\u001b[0;34m\u001b[0m\u001b[0;34m\u001b[0m\u001b[0m\n",
      "\u001b[0;31merror\u001b[0m: OpenCV(3.4.2) /tmp/build/80754af9/opencv-suite_1535558553474/work/modules/imgproc/src/color.hpp:253: error: (-215:Assertion failed) VScn::contains(scn) && VDcn::contains(dcn) && VDepth::contains(depth) in function 'CvtHelper'\n"
     ]
    }
   ],
   "source": [
    "# test code to see whether frame retrieval and flow calculation works as intended\n",
    "list_of_videos = os.listdir('../SoccerNet-code/data/goals')[0]\n",
    "vid = os.path.join('../SoccerNet-code/data/goals', list_of_videos)\n",
    "cap = cv2.VideoCapture(vid)\n",
    "_, frame1 = cap.read()\n",
    "gray1 = cv2.cvtColor(frame1, cv2.COLOR_RGB2GRAY)\n",
    "\n",
    "\n",
    "_, frame2 = cap.read()\n",
    "gray2 = cv2.cvtColor(frame2, cv2.COLOR_RGB2GRAY)\n",
    "\n",
    "flow = compute_TVL1(gray1, gray2, None)\n",
    "cv2.imwrite('./' + 'original' + '.png', frame2)\n",
    "cv2.imwrite('./' + 'flow' + '.png', flow_vis)"
   ]
  },
  {
   "cell_type": "code",
   "execution_count": 66,
   "metadata": {},
   "outputs": [
    {
     "data": {
      "text/plain": [
       "0"
      ]
     },
     "execution_count": 66,
     "metadata": {},
     "output_type": "execute_result"
    }
   ],
   "source": [
    "frame2.min()"
   ]
  },
  {
   "cell_type": "code",
   "execution_count": 76,
   "metadata": {},
   "outputs": [
    {
     "data": {
      "text/plain": [
       "713216"
      ]
     },
     "execution_count": 76,
     "metadata": {},
     "output_type": "execute_result"
    }
   ],
   "source": [
    "flow.nbytes"
   ]
  },
  {
   "cell_type": "code",
   "execution_count": 75,
   "metadata": {},
   "outputs": [
    {
     "data": {
      "text/plain": [
       "267456"
      ]
     },
     "execution_count": 75,
     "metadata": {},
     "output_type": "execute_result"
    }
   ],
   "source": [
    "frame2.nbytes"
   ]
  },
  {
   "cell_type": "code",
   "execution_count": 25,
   "metadata": {},
   "outputs": [
    {
     "name": "stdout",
     "output_type": "stream",
     "text": [
      "data\t\t    I3D_exploratory.ipynb  original.png\r\n",
      "evaluate_sample.py  i3d_inception.py\t   __pycache__\r\n",
      "flow.png\t    LICENSE\t\t   README.md\r\n"
     ]
    }
   ],
   "source": [
    "!ls"
   ]
  },
  {
   "cell_type": "code",
   "execution_count": 47,
   "metadata": {},
   "outputs": [
    {
     "name": "stdout",
     "output_type": "stream",
     "text": [
      "label_map.txt\t\t\tv_CricketShot_g04_c01_rgb.gif\r\n",
      "v_CricketShot_g04_c01_flow.gif\tv_CricketShot_g04_c01_rgb.npy\r\n",
      "v_CricketShot_g04_c01_flow.npy\r\n"
     ]
    }
   ],
   "source": [
    "!ls ./data"
   ]
  },
  {
   "cell_type": "code",
   "execution_count": 48,
   "metadata": {},
   "outputs": [
    {
     "data": {
      "text/plain": [
       "(1, 79, 224, 224, 2)"
      ]
     },
     "execution_count": 48,
     "metadata": {},
     "output_type": "execute_result"
    }
   ],
   "source": [
    "flow_matrix = np.load('./data/v_CricketShot_g04_c01_flow.npy')\n",
    "flow_matrix.shape"
   ]
  },
  {
   "cell_type": "code",
   "execution_count": 64,
   "metadata": {},
   "outputs": [
    {
     "data": {
      "text/plain": [
       "-0.46697944"
      ]
     },
     "execution_count": 64,
     "metadata": {},
     "output_type": "execute_result"
    }
   ],
   "source": [
    "flow_matrix.min()"
   ]
  },
  {
   "cell_type": "code",
   "execution_count": 55,
   "metadata": {},
   "outputs": [
    {
     "data": {
      "text/plain": [
       "(1, 79, 224, 224, 3)"
      ]
     },
     "execution_count": 55,
     "metadata": {},
     "output_type": "execute_result"
    }
   ],
   "source": [
    "rgb_matrix = np.load('./data/v_CricketShot_g04_c01_rgb.npy')\n",
    "rgb_matrix.shape"
   ]
  },
  {
   "cell_type": "code",
   "execution_count": 59,
   "metadata": {},
   "outputs": [
    {
     "data": {
      "text/plain": [
       "-1.0"
      ]
     },
     "execution_count": 59,
     "metadata": {},
     "output_type": "execute_result"
    }
   ],
   "source": [
    "rgb_matrix.min()"
   ]
  },
  {
   "cell_type": "code",
   "execution_count": 61,
   "metadata": {},
   "outputs": [
    {
     "data": {
      "text/plain": [
       "-2.333117"
      ]
     },
     "execution_count": 61,
     "metadata": {},
     "output_type": "execute_result"
    }
   ],
   "source": [
    "flow.min()"
   ]
  },
  {
   "cell_type": "code",
   "execution_count": 79,
   "metadata": {},
   "outputs": [],
   "source": [
    "def vid2npy(filename):\n",
    "    cap = cv2.VideoCapture(filename)\n",
    "    frames =[]\n",
    "    while True:\n",
    "        ret, frame = cap.read()\n",
    "        if ret == True:\n",
    "            frame = cv2.resize(frame, (224,224), interpolation=cv2.INTER_AREA)\n",
    "            frames.append(frame)\n",
    "        else:\n",
    "            break\n",
    "            \n",
    "    return np.array(frames)"
   ]
  },
  {
   "cell_type": "code",
   "execution_count": 80,
   "metadata": {},
   "outputs": [],
   "source": [
    "clip = vid2npy('../SoccerNet-code/data/goals/1.mkv')"
   ]
  },
  {
   "cell_type": "code",
   "execution_count": 81,
   "metadata": {},
   "outputs": [
    {
     "data": {
      "text/plain": [
       "(250, 224, 224, 3)"
      ]
     },
     "execution_count": 81,
     "metadata": {},
     "output_type": "execute_result"
    }
   ],
   "source": [
    "clip.shape"
   ]
  },
  {
   "cell_type": "code",
   "execution_count": 16,
   "metadata": {},
   "outputs": [],
   "source": [
    "def get_frames(video_folder='./data/goals', cls_label=1):\n",
    "\n",
    "    X_data = []\n",
    "    X_flow = []\n",
    "    y_data = []\n",
    "    list_of_videos = os.listdir(video_folder)[:10]\n",
    "\n",
    "    for i in list_of_videos:\n",
    "        #Video Path\n",
    "        vid = os.path.join(video_folder, i) #path to each video from list1 = os.listdir(path)\n",
    "        #Reading the Video\n",
    "        cap = cv2.VideoCapture(vid)\n",
    "        \n",
    "        #Reading Frames\n",
    "        #fps = vcap.get(5)\n",
    "        #To Store Frames\n",
    "        frames = []\n",
    "        while True: #here we get 40 frames, for example\n",
    "            ret, frame = cap.read()\n",
    "            if ret == True:\n",
    "                frame = cv2.resize(frame,(224,224),interpolation=cv2.INTER_AREA)\n",
    "                frames.append(frame)\n",
    "            else:\n",
    "                print('Class 1 - Success!')\n",
    "                break\n",
    "        X_data.append(frames) #appending each tensor of 40 frames resized to 30x30\n",
    "        y_data.append(cls_label) #appending a class label to the set of 40 frames\n",
    "    X_data = np.array(X_data)\n",
    "    y_data = np.array(y_data) #ready to split! :)\n",
    "\n",
    "    return X_data, y_data"
   ]
  },
  {
   "cell_type": "code",
   "execution_count": 17,
   "metadata": {},
   "outputs": [
    {
     "name": "stdout",
     "output_type": "stream",
     "text": [
      "Class 1 - Success!\n",
      "Class 1 - Success!\n",
      "Class 1 - Success!\n",
      "Class 1 - Success!\n",
      "Class 1 - Success!\n",
      "Class 1 - Success!\n",
      "Class 1 - Success!\n",
      "Class 1 - Success!\n",
      "Class 1 - Success!\n",
      "Class 1 - Success!\n"
     ]
    }
   ],
   "source": [
    "X_train, y_train = get_frames('../SoccerNet-code/data/goals', 1)\n",
    "\n"
   ]
  },
  {
   "cell_type": "code",
   "execution_count": 18,
   "metadata": {},
   "outputs": [
    {
     "data": {
      "text/plain": [
       "(10, 250, 224, 224, 3)"
      ]
     },
     "execution_count": 18,
     "metadata": {},
     "output_type": "execute_result"
    }
   ],
   "source": [
    "X_train.shape"
   ]
  },
  {
   "cell_type": "code",
   "execution_count": 3,
   "metadata": {},
   "outputs": [
    {
     "name": "stderr",
     "output_type": "stream",
     "text": [
      "Using TensorFlow backend.\n"
     ]
    }
   ],
   "source": [
    "from i3d_inception import Inception_Inflated3d\n",
    "from i3d_inception import conv3d_bn\n",
    "\n",
    "from keras import backend as K\n",
    "\n",
    "from keras.models import Model\n",
    "from keras.layers import Activation\n",
    "from keras.layers import Add\n",
    "from keras.layers import Dropout\n",
    "from keras.layers import Reshape\n",
    "from keras.layers import Lambda"
   ]
  },
  {
   "cell_type": "code",
   "execution_count": 10,
   "metadata": {},
   "outputs": [],
   "source": [
    "rgb_model = Inception_Inflated3d(\n",
    "    include_top=False,\n",
    "    weights='rgb_imagenet_and_kinetics',\n",
    "    input_shape=(250, 224, 224, 3))"
   ]
  },
  {
   "cell_type": "code",
   "execution_count": 11,
   "metadata": {},
   "outputs": [
    {
     "data": {
      "text/plain": [
       "<tf.Tensor 'input_5:0' shape=(?, 250, 224, 224, 3) dtype=float32>"
      ]
     },
     "execution_count": 11,
     "metadata": {},
     "output_type": "execute_result"
    }
   ],
   "source": [
    "rgb_model.input"
   ]
  },
  {
   "cell_type": "code",
   "execution_count": null,
   "metadata": {},
   "outputs": [],
   "source": []
  },
  {
   "cell_type": "code",
   "execution_count": 13,
   "metadata": {},
   "outputs": [],
   "source": [
    "# combine Inflated3d-conv3d outputs from RGB and flow\n",
    "\n",
    "def generate_logit(x, last_conv3d_name, classes):\n",
    "    \n",
    "    x = conv3d_bn(x, classes, 1, 1, 1, padding='same',\n",
    "                   use_bias=True, use_activation_fn=False, use_bn=False, name=last_conv3d_name)\n",
    "\n",
    "    num_frames_remaining = int(x.shape[1])\n",
    "    x = Reshape((num_frames_remaining, classes))(x)\n",
    "\n",
    "    x = Lambda(lambda x: K.mean(x, axis=1, keepdims=False),\n",
    "               output_shape=lambda s: (s[0], s[2]))(x)    \n",
    "    \n",
    "    return x\n",
    "\n",
    "def Combined_I3D_model(NUM_FRAMES, FRAME_HEIGHT, FRAME_WIDTH, NUM_RGB_CHANNELS, NUM_FLOW_CHANNELS, NUM_CLASSES, dropout_prob):\n",
    "\n",
    "    rgb_model = Inception_Inflated3d(\n",
    "        include_top=False,\n",
    "        weights='rgb_imagenet_and_kinetics',\n",
    "        input_shape=(NUM_FRAMES, FRAME_HEIGHT, FRAME_WIDTH, NUM_RGB_CHANNELS))\n",
    "\n",
    "    flow_model = Inception_Inflated3d(\n",
    "        include_top=False,\n",
    "        weights='flow_imagenet_and_kinetics',\n",
    "        input_shape=(NUM_FRAMES, FRAME_HEIGHT, FRAME_WIDTH, NUM_FLOW_CHANNELS))\n",
    "\n",
    "    x1 = rgb_model.layers[-1].output\n",
    "    x1 = Dropout(dropout_prob)(x1)\n",
    "    \n",
    "    x2 = flow_model.layers[-1].output\n",
    "    x2 = Dropout(dropout_prob)(x2)\n",
    "\n",
    "    # generate logits for RGB and flow streams\n",
    "    x1 = generate_logit(x1, '1x1_Conv3d_rgb_logits', NUM_CLASSES)\n",
    "    x2 = generate_logit(x2, '1x1_Conv3d_rgb_logits', NUM_CLASSES)\n",
    "    \n",
    "    x = Add()([x1, x2])\n",
    "    x = Activation('softmax', name='prediction')(x)\n",
    "\n",
    "    combined_model = Model(input=[rgb_model.input, flow_model.input], output=x)\n",
    "    \n",
    "    return combined_model"
   ]
  },
  {
   "cell_type": "code",
   "execution_count": 14,
   "metadata": {},
   "outputs": [
    {
     "name": "stderr",
     "output_type": "stream",
     "text": [
      "/home/dshin1331/anaconda3/lib/python3.7/site-packages/ipykernel_launcher.py:41: UserWarning: Update your `Model` call to the Keras 2 API: `Model(inputs=[<tf.Tenso..., outputs=Tensor(\"pr...)`\n"
     ]
    },
    {
     "ename": "ValueError",
     "evalue": "The name \"Conv3d_1a_7x7_conv\" is used 2 times in the model. All layer names should be unique.",
     "output_type": "error",
     "traceback": [
      "\u001b[0;31m---------------------------------------------------------------------------\u001b[0m",
      "\u001b[0;31mValueError\u001b[0m                                Traceback (most recent call last)",
      "\u001b[0;32m<ipython-input-14-cf4290fea611>\u001b[0m in \u001b[0;36m<module>\u001b[0;34m\u001b[0m\n\u001b[1;32m      5\u001b[0m                                 \u001b[0mNUM_FLOW_CHANNELS\u001b[0m\u001b[0;34m=\u001b[0m\u001b[0;36m2\u001b[0m\u001b[0;34m,\u001b[0m\u001b[0;34m\u001b[0m\u001b[0;34m\u001b[0m\u001b[0m\n\u001b[1;32m      6\u001b[0m                                 \u001b[0mNUM_CLASSES\u001b[0m\u001b[0;34m=\u001b[0m\u001b[0;36m2\u001b[0m\u001b[0;34m,\u001b[0m\u001b[0;34m\u001b[0m\u001b[0;34m\u001b[0m\u001b[0m\n\u001b[0;32m----> 7\u001b[0;31m                                 dropout_prob=0.0)\n\u001b[0m",
      "\u001b[0;32m<ipython-input-13-5c06e3d18417>\u001b[0m in \u001b[0;36mCombined_I3D_model\u001b[0;34m(NUM_FRAMES, FRAME_HEIGHT, FRAME_WIDTH, NUM_RGB_CHANNELS, NUM_FLOW_CHANNELS, NUM_CLASSES, dropout_prob)\u001b[0m\n\u001b[1;32m     39\u001b[0m     \u001b[0mx\u001b[0m \u001b[0;34m=\u001b[0m \u001b[0mActivation\u001b[0m\u001b[0;34m(\u001b[0m\u001b[0;34m'softmax'\u001b[0m\u001b[0;34m,\u001b[0m \u001b[0mname\u001b[0m\u001b[0;34m=\u001b[0m\u001b[0;34m'prediction'\u001b[0m\u001b[0;34m)\u001b[0m\u001b[0;34m(\u001b[0m\u001b[0mx\u001b[0m\u001b[0;34m)\u001b[0m\u001b[0;34m\u001b[0m\u001b[0;34m\u001b[0m\u001b[0m\n\u001b[1;32m     40\u001b[0m \u001b[0;34m\u001b[0m\u001b[0m\n\u001b[0;32m---> 41\u001b[0;31m     \u001b[0mcombined_model\u001b[0m \u001b[0;34m=\u001b[0m \u001b[0mModel\u001b[0m\u001b[0;34m(\u001b[0m\u001b[0minput\u001b[0m\u001b[0;34m=\u001b[0m\u001b[0;34m[\u001b[0m\u001b[0mrgb_model\u001b[0m\u001b[0;34m.\u001b[0m\u001b[0minput\u001b[0m\u001b[0;34m,\u001b[0m \u001b[0mflow_model\u001b[0m\u001b[0;34m.\u001b[0m\u001b[0minput\u001b[0m\u001b[0;34m]\u001b[0m\u001b[0;34m,\u001b[0m \u001b[0moutput\u001b[0m\u001b[0;34m=\u001b[0m\u001b[0mx\u001b[0m\u001b[0;34m)\u001b[0m\u001b[0;34m\u001b[0m\u001b[0;34m\u001b[0m\u001b[0m\n\u001b[0m\u001b[1;32m     42\u001b[0m \u001b[0;34m\u001b[0m\u001b[0m\n\u001b[1;32m     43\u001b[0m     \u001b[0;32mreturn\u001b[0m \u001b[0mcombined_model\u001b[0m\u001b[0;34m\u001b[0m\u001b[0;34m\u001b[0m\u001b[0m\n",
      "\u001b[0;32m~/anaconda3/lib/python3.7/site-packages/keras/legacy/interfaces.py\u001b[0m in \u001b[0;36mwrapper\u001b[0;34m(*args, **kwargs)\u001b[0m\n\u001b[1;32m     89\u001b[0m                 warnings.warn('Update your `' + object_name + '` call to the ' +\n\u001b[1;32m     90\u001b[0m                               'Keras 2 API: ' + signature, stacklevel=2)\n\u001b[0;32m---> 91\u001b[0;31m             \u001b[0;32mreturn\u001b[0m \u001b[0mfunc\u001b[0m\u001b[0;34m(\u001b[0m\u001b[0;34m*\u001b[0m\u001b[0margs\u001b[0m\u001b[0;34m,\u001b[0m \u001b[0;34m**\u001b[0m\u001b[0mkwargs\u001b[0m\u001b[0;34m)\u001b[0m\u001b[0;34m\u001b[0m\u001b[0;34m\u001b[0m\u001b[0m\n\u001b[0m\u001b[1;32m     92\u001b[0m         \u001b[0mwrapper\u001b[0m\u001b[0;34m.\u001b[0m\u001b[0m_original_function\u001b[0m \u001b[0;34m=\u001b[0m \u001b[0mfunc\u001b[0m\u001b[0;34m\u001b[0m\u001b[0;34m\u001b[0m\u001b[0m\n\u001b[1;32m     93\u001b[0m         \u001b[0;32mreturn\u001b[0m \u001b[0mwrapper\u001b[0m\u001b[0;34m\u001b[0m\u001b[0;34m\u001b[0m\u001b[0m\n",
      "\u001b[0;32m~/anaconda3/lib/python3.7/site-packages/keras/engine/network.py\u001b[0m in \u001b[0;36m__init__\u001b[0;34m(self, *args, **kwargs)\u001b[0m\n\u001b[1;32m     91\u001b[0m                 'inputs' in kwargs and 'outputs' in kwargs):\n\u001b[1;32m     92\u001b[0m             \u001b[0;31m# Graph network\u001b[0m\u001b[0;34m\u001b[0m\u001b[0;34m\u001b[0m\u001b[0;34m\u001b[0m\u001b[0m\n\u001b[0;32m---> 93\u001b[0;31m             \u001b[0mself\u001b[0m\u001b[0;34m.\u001b[0m\u001b[0m_init_graph_network\u001b[0m\u001b[0;34m(\u001b[0m\u001b[0;34m*\u001b[0m\u001b[0margs\u001b[0m\u001b[0;34m,\u001b[0m \u001b[0;34m**\u001b[0m\u001b[0mkwargs\u001b[0m\u001b[0;34m)\u001b[0m\u001b[0;34m\u001b[0m\u001b[0;34m\u001b[0m\u001b[0m\n\u001b[0m\u001b[1;32m     94\u001b[0m         \u001b[0;32melse\u001b[0m\u001b[0;34m:\u001b[0m\u001b[0;34m\u001b[0m\u001b[0;34m\u001b[0m\u001b[0m\n\u001b[1;32m     95\u001b[0m             \u001b[0;31m# Subclassed network\u001b[0m\u001b[0;34m\u001b[0m\u001b[0;34m\u001b[0m\u001b[0;34m\u001b[0m\u001b[0m\n",
      "\u001b[0;32m~/anaconda3/lib/python3.7/site-packages/keras/engine/network.py\u001b[0m in \u001b[0;36m_init_graph_network\u001b[0;34m(self, inputs, outputs, name)\u001b[0m\n\u001b[1;32m    229\u001b[0m         \u001b[0;31m# Keep track of the network's nodes and layers.\u001b[0m\u001b[0;34m\u001b[0m\u001b[0;34m\u001b[0m\u001b[0;34m\u001b[0m\u001b[0m\n\u001b[1;32m    230\u001b[0m         nodes, nodes_by_depth, layers, layers_by_depth = _map_graph_network(\n\u001b[0;32m--> 231\u001b[0;31m             self.inputs, self.outputs)\n\u001b[0m\u001b[1;32m    232\u001b[0m         \u001b[0mself\u001b[0m\u001b[0;34m.\u001b[0m\u001b[0m_network_nodes\u001b[0m \u001b[0;34m=\u001b[0m \u001b[0mnodes\u001b[0m\u001b[0;34m\u001b[0m\u001b[0;34m\u001b[0m\u001b[0m\n\u001b[1;32m    233\u001b[0m         \u001b[0mself\u001b[0m\u001b[0;34m.\u001b[0m\u001b[0m_nodes_by_depth\u001b[0m \u001b[0;34m=\u001b[0m \u001b[0mnodes_by_depth\u001b[0m\u001b[0;34m\u001b[0m\u001b[0;34m\u001b[0m\u001b[0m\n",
      "\u001b[0;32m~/anaconda3/lib/python3.7/site-packages/keras/engine/network.py\u001b[0m in \u001b[0;36m_map_graph_network\u001b[0;34m(inputs, outputs)\u001b[0m\n\u001b[1;32m   1453\u001b[0m             raise ValueError('The name \"' + name + '\" is used ' +\n\u001b[1;32m   1454\u001b[0m                              \u001b[0mstr\u001b[0m\u001b[0;34m(\u001b[0m\u001b[0mall_names\u001b[0m\u001b[0;34m.\u001b[0m\u001b[0mcount\u001b[0m\u001b[0;34m(\u001b[0m\u001b[0mname\u001b[0m\u001b[0;34m)\u001b[0m\u001b[0;34m)\u001b[0m \u001b[0;34m+\u001b[0m\u001b[0;34m\u001b[0m\u001b[0;34m\u001b[0m\u001b[0m\n\u001b[0;32m-> 1455\u001b[0;31m                              \u001b[0;34m' times in the model. '\u001b[0m\u001b[0;34m\u001b[0m\u001b[0;34m\u001b[0m\u001b[0m\n\u001b[0m\u001b[1;32m   1456\u001b[0m                              'All layer names should be unique.')\n\u001b[1;32m   1457\u001b[0m     \u001b[0;32mreturn\u001b[0m \u001b[0mnetwork_nodes\u001b[0m\u001b[0;34m,\u001b[0m \u001b[0mnodes_by_depth\u001b[0m\u001b[0;34m,\u001b[0m \u001b[0mlayers\u001b[0m\u001b[0;34m,\u001b[0m \u001b[0mlayers_by_depth\u001b[0m\u001b[0;34m\u001b[0m\u001b[0;34m\u001b[0m\u001b[0m\n",
      "\u001b[0;31mValueError\u001b[0m: The name \"Conv3d_1a_7x7_conv\" is used 2 times in the model. All layer names should be unique."
     ]
    }
   ],
   "source": [
    "full_model = Combined_I3D_model(NUM_FRAMES=250,\n",
    "                                FRAME_HEIGHT=224,\n",
    "                                FRAME_WIDTH=224,\n",
    "                                NUM_RGB_CHANNELS=3,\n",
    "                                NUM_FLOW_CHANNELS=2,\n",
    "                                NUM_CLASSES=2,\n",
    "                                dropout_prob=0.0)"
   ]
  },
  {
   "cell_type": "code",
   "execution_count": 27,
   "metadata": {},
   "outputs": [
    {
     "name": "stdout",
     "output_type": "stream",
     "text": [
      "__________________________________________________________________________________________________\n",
      "Layer (type)                    Output Shape         Param #     Connected to                     \n",
      "==================================================================================================\n",
      "input_1 (InputLayer)            (None, 250, 224, 224 0                                            \n",
      "__________________________________________________________________________________________________\n",
      "Conv3d_1a_7x7_conv (Conv3D)     (None, 125, 112, 112 65856       input_1[0][0]                    \n",
      "__________________________________________________________________________________________________\n",
      "Conv3d_1a_7x7_bn (BatchNormaliz (None, 125, 112, 112 192         Conv3d_1a_7x7_conv[0][0]         \n",
      "__________________________________________________________________________________________________\n",
      "Conv3d_1a_7x7 (Activation)      (None, 125, 112, 112 0           Conv3d_1a_7x7_bn[0][0]           \n",
      "__________________________________________________________________________________________________\n",
      "MaxPool2d_2a_3x3 (MaxPooling3D) (None, 125, 56, 56,  0           Conv3d_1a_7x7[0][0]              \n",
      "__________________________________________________________________________________________________\n",
      "Conv3d_2b_1x1_conv (Conv3D)     (None, 125, 56, 56,  4096        MaxPool2d_2a_3x3[0][0]           \n",
      "__________________________________________________________________________________________________\n",
      "Conv3d_2b_1x1_bn (BatchNormaliz (None, 125, 56, 56,  192         Conv3d_2b_1x1_conv[0][0]         \n",
      "__________________________________________________________________________________________________\n",
      "Conv3d_2b_1x1 (Activation)      (None, 125, 56, 56,  0           Conv3d_2b_1x1_bn[0][0]           \n",
      "__________________________________________________________________________________________________\n",
      "Conv3d_2c_3x3_conv (Conv3D)     (None, 125, 56, 56,  331776      Conv3d_2b_1x1[0][0]              \n",
      "__________________________________________________________________________________________________\n",
      "Conv3d_2c_3x3_bn (BatchNormaliz (None, 125, 56, 56,  576         Conv3d_2c_3x3_conv[0][0]         \n",
      "__________________________________________________________________________________________________\n",
      "Conv3d_2c_3x3 (Activation)      (None, 125, 56, 56,  0           Conv3d_2c_3x3_bn[0][0]           \n",
      "__________________________________________________________________________________________________\n",
      "MaxPool2d_3a_3x3 (MaxPooling3D) (None, 125, 28, 28,  0           Conv3d_2c_3x3[0][0]              \n",
      "__________________________________________________________________________________________________\n",
      "Conv3d_3b_1a_1x1_conv (Conv3D)  (None, 125, 28, 28,  18432       MaxPool2d_3a_3x3[0][0]           \n",
      "__________________________________________________________________________________________________\n",
      "Conv3d_3b_2a_1x1_conv (Conv3D)  (None, 125, 28, 28,  3072        MaxPool2d_3a_3x3[0][0]           \n",
      "__________________________________________________________________________________________________\n",
      "Conv3d_3b_1a_1x1_bn (BatchNorma (None, 125, 28, 28,  288         Conv3d_3b_1a_1x1_conv[0][0]      \n",
      "__________________________________________________________________________________________________\n",
      "Conv3d_3b_2a_1x1_bn (BatchNorma (None, 125, 28, 28,  48          Conv3d_3b_2a_1x1_conv[0][0]      \n",
      "__________________________________________________________________________________________________\n",
      "Conv3d_3b_1a_1x1 (Activation)   (None, 125, 28, 28,  0           Conv3d_3b_1a_1x1_bn[0][0]        \n",
      "__________________________________________________________________________________________________\n",
      "Conv3d_3b_2a_1x1 (Activation)   (None, 125, 28, 28,  0           Conv3d_3b_2a_1x1_bn[0][0]        \n",
      "__________________________________________________________________________________________________\n",
      "MaxPool2d_3b_3a_3x3 (MaxPooling (None, 125, 28, 28,  0           MaxPool2d_3a_3x3[0][0]           \n",
      "__________________________________________________________________________________________________\n",
      "Conv3d_3b_0a_1x1_conv (Conv3D)  (None, 125, 28, 28,  12288       MaxPool2d_3a_3x3[0][0]           \n",
      "__________________________________________________________________________________________________\n",
      "Conv3d_3b_1b_3x3_conv (Conv3D)  (None, 125, 28, 28,  331776      Conv3d_3b_1a_1x1[0][0]           \n",
      "__________________________________________________________________________________________________\n",
      "Conv3d_3b_2b_3x3_conv (Conv3D)  (None, 125, 28, 28,  13824       Conv3d_3b_2a_1x1[0][0]           \n",
      "__________________________________________________________________________________________________\n",
      "Conv3d_3b_3b_1x1_conv (Conv3D)  (None, 125, 28, 28,  6144        MaxPool2d_3b_3a_3x3[0][0]        \n",
      "__________________________________________________________________________________________________\n",
      "Conv3d_3b_0a_1x1_bn (BatchNorma (None, 125, 28, 28,  192         Conv3d_3b_0a_1x1_conv[0][0]      \n",
      "__________________________________________________________________________________________________\n",
      "Conv3d_3b_1b_3x3_bn (BatchNorma (None, 125, 28, 28,  384         Conv3d_3b_1b_3x3_conv[0][0]      \n",
      "__________________________________________________________________________________________________\n",
      "Conv3d_3b_2b_3x3_bn (BatchNorma (None, 125, 28, 28,  96          Conv3d_3b_2b_3x3_conv[0][0]      \n",
      "__________________________________________________________________________________________________\n",
      "Conv3d_3b_3b_1x1_bn (BatchNorma (None, 125, 28, 28,  96          Conv3d_3b_3b_1x1_conv[0][0]      \n",
      "__________________________________________________________________________________________________\n",
      "Conv3d_3b_0a_1x1 (Activation)   (None, 125, 28, 28,  0           Conv3d_3b_0a_1x1_bn[0][0]        \n",
      "__________________________________________________________________________________________________\n",
      "Conv3d_3b_1b_3x3 (Activation)   (None, 125, 28, 28,  0           Conv3d_3b_1b_3x3_bn[0][0]        \n",
      "__________________________________________________________________________________________________\n",
      "Conv3d_3b_2b_3x3 (Activation)   (None, 125, 28, 28,  0           Conv3d_3b_2b_3x3_bn[0][0]        \n",
      "__________________________________________________________________________________________________\n",
      "Conv3d_3b_3b_1x1 (Activation)   (None, 125, 28, 28,  0           Conv3d_3b_3b_1x1_bn[0][0]        \n",
      "__________________________________________________________________________________________________\n",
      "Mixed_3b (Concatenate)          (None, 125, 28, 28,  0           Conv3d_3b_0a_1x1[0][0]           \n",
      "                                                                 Conv3d_3b_1b_3x3[0][0]           \n",
      "                                                                 Conv3d_3b_2b_3x3[0][0]           \n",
      "                                                                 Conv3d_3b_3b_1x1[0][0]           \n",
      "__________________________________________________________________________________________________\n",
      "Conv3d_3c_1a_1x1_conv (Conv3D)  (None, 125, 28, 28,  32768       Mixed_3b[0][0]                   \n",
      "__________________________________________________________________________________________________\n",
      "Conv3d_3c_2a_1x1_conv (Conv3D)  (None, 125, 28, 28,  8192        Mixed_3b[0][0]                   \n",
      "__________________________________________________________________________________________________\n",
      "Conv3d_3c_1a_1x1_bn (BatchNorma (None, 125, 28, 28,  384         Conv3d_3c_1a_1x1_conv[0][0]      \n",
      "__________________________________________________________________________________________________\n",
      "Conv3d_3c_2a_1x1_bn (BatchNorma (None, 125, 28, 28,  96          Conv3d_3c_2a_1x1_conv[0][0]      \n",
      "__________________________________________________________________________________________________\n",
      "Conv3d_3c_1a_1x1 (Activation)   (None, 125, 28, 28,  0           Conv3d_3c_1a_1x1_bn[0][0]        \n",
      "__________________________________________________________________________________________________\n",
      "Conv3d_3c_2a_1x1 (Activation)   (None, 125, 28, 28,  0           Conv3d_3c_2a_1x1_bn[0][0]        \n",
      "__________________________________________________________________________________________________\n",
      "MaxPool2d_3c_3a_3x3 (MaxPooling (None, 125, 28, 28,  0           Mixed_3b[0][0]                   \n",
      "__________________________________________________________________________________________________\n",
      "Conv3d_3c_0a_1x1_conv (Conv3D)  (None, 125, 28, 28,  32768       Mixed_3b[0][0]                   \n",
      "__________________________________________________________________________________________________\n",
      "Conv3d_3c_1b_3x3_conv (Conv3D)  (None, 125, 28, 28,  663552      Conv3d_3c_1a_1x1[0][0]           \n",
      "__________________________________________________________________________________________________\n",
      "Conv3d_3c_2b_3x3_conv (Conv3D)  (None, 125, 28, 28,  82944       Conv3d_3c_2a_1x1[0][0]           \n",
      "__________________________________________________________________________________________________\n",
      "Conv3d_3c_3b_1x1_conv (Conv3D)  (None, 125, 28, 28,  16384       MaxPool2d_3c_3a_3x3[0][0]        \n",
      "__________________________________________________________________________________________________\n",
      "Conv3d_3c_0a_1x1_bn (BatchNorma (None, 125, 28, 28,  384         Conv3d_3c_0a_1x1_conv[0][0]      \n",
      "__________________________________________________________________________________________________\n",
      "Conv3d_3c_1b_3x3_bn (BatchNorma (None, 125, 28, 28,  576         Conv3d_3c_1b_3x3_conv[0][0]      \n",
      "__________________________________________________________________________________________________\n",
      "Conv3d_3c_2b_3x3_bn (BatchNorma (None, 125, 28, 28,  288         Conv3d_3c_2b_3x3_conv[0][0]      \n",
      "__________________________________________________________________________________________________\n",
      "Conv3d_3c_3b_1x1_bn (BatchNorma (None, 125, 28, 28,  192         Conv3d_3c_3b_1x1_conv[0][0]      \n",
      "__________________________________________________________________________________________________\n",
      "Conv3d_3c_0a_1x1 (Activation)   (None, 125, 28, 28,  0           Conv3d_3c_0a_1x1_bn[0][0]        \n",
      "__________________________________________________________________________________________________\n",
      "Conv3d_3c_1b_3x3 (Activation)   (None, 125, 28, 28,  0           Conv3d_3c_1b_3x3_bn[0][0]        \n",
      "__________________________________________________________________________________________________\n",
      "Conv3d_3c_2b_3x3 (Activation)   (None, 125, 28, 28,  0           Conv3d_3c_2b_3x3_bn[0][0]        \n",
      "__________________________________________________________________________________________________\n",
      "Conv3d_3c_3b_1x1 (Activation)   (None, 125, 28, 28,  0           Conv3d_3c_3b_1x1_bn[0][0]        \n",
      "__________________________________________________________________________________________________\n",
      "Mixed_3c (Concatenate)          (None, 125, 28, 28,  0           Conv3d_3c_0a_1x1[0][0]           \n",
      "                                                                 Conv3d_3c_1b_3x3[0][0]           \n",
      "                                                                 Conv3d_3c_2b_3x3[0][0]           \n",
      "                                                                 Conv3d_3c_3b_1x1[0][0]           \n",
      "__________________________________________________________________________________________________\n",
      "MaxPool2d_4a_3x3 (MaxPooling3D) (None, 63, 14, 14, 4 0           Mixed_3c[0][0]                   \n",
      "__________________________________________________________________________________________________\n",
      "Conv3d_4b_1a_1x1_conv (Conv3D)  (None, 63, 14, 14, 9 46080       MaxPool2d_4a_3x3[0][0]           \n",
      "__________________________________________________________________________________________________\n",
      "Conv3d_4b_2a_1x1_conv (Conv3D)  (None, 63, 14, 14, 1 7680        MaxPool2d_4a_3x3[0][0]           \n",
      "__________________________________________________________________________________________________\n",
      "Conv3d_4b_1a_1x1_bn (BatchNorma (None, 63, 14, 14, 9 288         Conv3d_4b_1a_1x1_conv[0][0]      \n",
      "__________________________________________________________________________________________________\n",
      "Conv3d_4b_2a_1x1_bn (BatchNorma (None, 63, 14, 14, 1 48          Conv3d_4b_2a_1x1_conv[0][0]      \n",
      "__________________________________________________________________________________________________\n",
      "Conv3d_4b_1a_1x1 (Activation)   (None, 63, 14, 14, 9 0           Conv3d_4b_1a_1x1_bn[0][0]        \n",
      "__________________________________________________________________________________________________\n",
      "Conv3d_4b_2a_1x1 (Activation)   (None, 63, 14, 14, 1 0           Conv3d_4b_2a_1x1_bn[0][0]        \n",
      "__________________________________________________________________________________________________\n",
      "MaxPool2d_4b_3a_3x3 (MaxPooling (None, 63, 14, 14, 4 0           MaxPool2d_4a_3x3[0][0]           \n",
      "__________________________________________________________________________________________________\n",
      "Conv3d_4b_0a_1x1_conv (Conv3D)  (None, 63, 14, 14, 1 92160       MaxPool2d_4a_3x3[0][0]           \n",
      "__________________________________________________________________________________________________\n",
      "Conv3d_4b_1b_3x3_conv (Conv3D)  (None, 63, 14, 14, 2 539136      Conv3d_4b_1a_1x1[0][0]           \n",
      "__________________________________________________________________________________________________\n",
      "Conv3d_4b_2b_3x3_conv (Conv3D)  (None, 63, 14, 14, 4 20736       Conv3d_4b_2a_1x1[0][0]           \n",
      "__________________________________________________________________________________________________\n",
      "Conv3d_4b_3b_1x1_conv (Conv3D)  (None, 63, 14, 14, 6 30720       MaxPool2d_4b_3a_3x3[0][0]        \n",
      "__________________________________________________________________________________________________\n",
      "Conv3d_4b_0a_1x1_bn (BatchNorma (None, 63, 14, 14, 1 576         Conv3d_4b_0a_1x1_conv[0][0]      \n",
      "__________________________________________________________________________________________________\n",
      "Conv3d_4b_1b_3x3_bn (BatchNorma (None, 63, 14, 14, 2 624         Conv3d_4b_1b_3x3_conv[0][0]      \n",
      "__________________________________________________________________________________________________\n",
      "Conv3d_4b_2b_3x3_bn (BatchNorma (None, 63, 14, 14, 4 144         Conv3d_4b_2b_3x3_conv[0][0]      \n",
      "__________________________________________________________________________________________________\n",
      "Conv3d_4b_3b_1x1_bn (BatchNorma (None, 63, 14, 14, 6 192         Conv3d_4b_3b_1x1_conv[0][0]      \n",
      "__________________________________________________________________________________________________\n",
      "Conv3d_4b_0a_1x1 (Activation)   (None, 63, 14, 14, 1 0           Conv3d_4b_0a_1x1_bn[0][0]        \n",
      "__________________________________________________________________________________________________\n",
      "Conv3d_4b_1b_3x3 (Activation)   (None, 63, 14, 14, 2 0           Conv3d_4b_1b_3x3_bn[0][0]        \n",
      "__________________________________________________________________________________________________\n",
      "Conv3d_4b_2b_3x3 (Activation)   (None, 63, 14, 14, 4 0           Conv3d_4b_2b_3x3_bn[0][0]        \n",
      "__________________________________________________________________________________________________\n",
      "Conv3d_4b_3b_1x1 (Activation)   (None, 63, 14, 14, 6 0           Conv3d_4b_3b_1x1_bn[0][0]        \n",
      "__________________________________________________________________________________________________\n",
      "Mixed_4b (Concatenate)          (None, 63, 14, 14, 5 0           Conv3d_4b_0a_1x1[0][0]           \n",
      "                                                                 Conv3d_4b_1b_3x3[0][0]           \n",
      "                                                                 Conv3d_4b_2b_3x3[0][0]           \n",
      "                                                                 Conv3d_4b_3b_1x1[0][0]           \n",
      "__________________________________________________________________________________________________\n",
      "Conv3d_4c_1a_1x1_conv (Conv3D)  (None, 63, 14, 14, 1 57344       Mixed_4b[0][0]                   \n",
      "__________________________________________________________________________________________________\n",
      "Conv3d_4c_2a_1x1_conv (Conv3D)  (None, 63, 14, 14, 2 12288       Mixed_4b[0][0]                   \n",
      "__________________________________________________________________________________________________\n",
      "Conv3d_4c_1a_1x1_bn (BatchNorma (None, 63, 14, 14, 1 336         Conv3d_4c_1a_1x1_conv[0][0]      \n",
      "__________________________________________________________________________________________________\n",
      "Conv3d_4c_2a_1x1_bn (BatchNorma (None, 63, 14, 14, 2 72          Conv3d_4c_2a_1x1_conv[0][0]      \n",
      "__________________________________________________________________________________________________\n",
      "Conv3d_4c_1a_1x1 (Activation)   (None, 63, 14, 14, 1 0           Conv3d_4c_1a_1x1_bn[0][0]        \n",
      "__________________________________________________________________________________________________\n",
      "Conv3d_4c_2a_1x1 (Activation)   (None, 63, 14, 14, 2 0           Conv3d_4c_2a_1x1_bn[0][0]        \n",
      "__________________________________________________________________________________________________\n",
      "MaxPool2d_4c_3a_3x3 (MaxPooling (None, 63, 14, 14, 5 0           Mixed_4b[0][0]                   \n",
      "__________________________________________________________________________________________________\n",
      "Conv3d_4c_0a_1x1_conv (Conv3D)  (None, 63, 14, 14, 1 81920       Mixed_4b[0][0]                   \n",
      "__________________________________________________________________________________________________\n",
      "Conv3d_4c_1b_3x3_conv (Conv3D)  (None, 63, 14, 14, 2 677376      Conv3d_4c_1a_1x1[0][0]           \n",
      "__________________________________________________________________________________________________\n",
      "Conv3d_4c_2b_3x3_conv (Conv3D)  (None, 63, 14, 14, 6 41472       Conv3d_4c_2a_1x1[0][0]           \n",
      "__________________________________________________________________________________________________\n",
      "Conv3d_4c_3b_1x1_conv (Conv3D)  (None, 63, 14, 14, 6 32768       MaxPool2d_4c_3a_3x3[0][0]        \n",
      "__________________________________________________________________________________________________\n",
      "Conv3d_4c_0a_1x1_bn (BatchNorma (None, 63, 14, 14, 1 480         Conv3d_4c_0a_1x1_conv[0][0]      \n",
      "__________________________________________________________________________________________________\n",
      "Conv3d_4c_1b_3x3_bn (BatchNorma (None, 63, 14, 14, 2 672         Conv3d_4c_1b_3x3_conv[0][0]      \n",
      "__________________________________________________________________________________________________\n",
      "Conv3d_4c_2b_3x3_bn (BatchNorma (None, 63, 14, 14, 6 192         Conv3d_4c_2b_3x3_conv[0][0]      \n",
      "__________________________________________________________________________________________________\n",
      "Conv3d_4c_3b_1x1_bn (BatchNorma (None, 63, 14, 14, 6 192         Conv3d_4c_3b_1x1_conv[0][0]      \n",
      "__________________________________________________________________________________________________\n",
      "Conv3d_4c_0a_1x1 (Activation)   (None, 63, 14, 14, 1 0           Conv3d_4c_0a_1x1_bn[0][0]        \n",
      "__________________________________________________________________________________________________\n",
      "Conv3d_4c_1b_3x3 (Activation)   (None, 63, 14, 14, 2 0           Conv3d_4c_1b_3x3_bn[0][0]        \n",
      "__________________________________________________________________________________________________\n",
      "Conv3d_4c_2b_3x3 (Activation)   (None, 63, 14, 14, 6 0           Conv3d_4c_2b_3x3_bn[0][0]        \n",
      "__________________________________________________________________________________________________\n",
      "Conv3d_4c_3b_1x1 (Activation)   (None, 63, 14, 14, 6 0           Conv3d_4c_3b_1x1_bn[0][0]        \n",
      "__________________________________________________________________________________________________\n",
      "Mixed_4c (Concatenate)          (None, 63, 14, 14, 5 0           Conv3d_4c_0a_1x1[0][0]           \n",
      "                                                                 Conv3d_4c_1b_3x3[0][0]           \n",
      "                                                                 Conv3d_4c_2b_3x3[0][0]           \n",
      "                                                                 Conv3d_4c_3b_1x1[0][0]           \n",
      "__________________________________________________________________________________________________\n",
      "Conv3d_4d_1a_1x1_conv (Conv3D)  (None, 63, 14, 14, 1 65536       Mixed_4c[0][0]                   \n",
      "__________________________________________________________________________________________________\n",
      "Conv3d_4d_2a_1x1_conv (Conv3D)  (None, 63, 14, 14, 2 12288       Mixed_4c[0][0]                   \n",
      "__________________________________________________________________________________________________\n",
      "Conv3d_4d_1a_1x1_bn (BatchNorma (None, 63, 14, 14, 1 384         Conv3d_4d_1a_1x1_conv[0][0]      \n",
      "__________________________________________________________________________________________________\n",
      "Conv3d_4d_2a_1x1_bn (BatchNorma (None, 63, 14, 14, 2 72          Conv3d_4d_2a_1x1_conv[0][0]      \n",
      "__________________________________________________________________________________________________\n",
      "Conv3d_4d_1a_1x1 (Activation)   (None, 63, 14, 14, 1 0           Conv3d_4d_1a_1x1_bn[0][0]        \n",
      "__________________________________________________________________________________________________\n",
      "Conv3d_4d_2a_1x1 (Activation)   (None, 63, 14, 14, 2 0           Conv3d_4d_2a_1x1_bn[0][0]        \n",
      "__________________________________________________________________________________________________\n",
      "MaxPool2d_4d_3a_3x3 (MaxPooling (None, 63, 14, 14, 5 0           Mixed_4c[0][0]                   \n",
      "__________________________________________________________________________________________________\n",
      "Conv3d_4d_0a_1x1_conv (Conv3D)  (None, 63, 14, 14, 1 65536       Mixed_4c[0][0]                   \n",
      "__________________________________________________________________________________________________\n",
      "Conv3d_4d_1b_3x3_conv (Conv3D)  (None, 63, 14, 14, 2 884736      Conv3d_4d_1a_1x1[0][0]           \n",
      "__________________________________________________________________________________________________\n",
      "Conv3d_4d_2b_3x3_conv (Conv3D)  (None, 63, 14, 14, 6 41472       Conv3d_4d_2a_1x1[0][0]           \n",
      "__________________________________________________________________________________________________\n",
      "Conv3d_4d_3b_1x1_conv (Conv3D)  (None, 63, 14, 14, 6 32768       MaxPool2d_4d_3a_3x3[0][0]        \n",
      "__________________________________________________________________________________________________\n",
      "Conv3d_4d_0a_1x1_bn (BatchNorma (None, 63, 14, 14, 1 384         Conv3d_4d_0a_1x1_conv[0][0]      \n",
      "__________________________________________________________________________________________________\n",
      "Conv3d_4d_1b_3x3_bn (BatchNorma (None, 63, 14, 14, 2 768         Conv3d_4d_1b_3x3_conv[0][0]      \n",
      "__________________________________________________________________________________________________\n",
      "Conv3d_4d_2b_3x3_bn (BatchNorma (None, 63, 14, 14, 6 192         Conv3d_4d_2b_3x3_conv[0][0]      \n",
      "__________________________________________________________________________________________________\n",
      "Conv3d_4d_3b_1x1_bn (BatchNorma (None, 63, 14, 14, 6 192         Conv3d_4d_3b_1x1_conv[0][0]      \n",
      "__________________________________________________________________________________________________\n",
      "Conv3d_4d_0a_1x1 (Activation)   (None, 63, 14, 14, 1 0           Conv3d_4d_0a_1x1_bn[0][0]        \n",
      "__________________________________________________________________________________________________\n",
      "Conv3d_4d_1b_3x3 (Activation)   (None, 63, 14, 14, 2 0           Conv3d_4d_1b_3x3_bn[0][0]        \n",
      "__________________________________________________________________________________________________\n",
      "Conv3d_4d_2b_3x3 (Activation)   (None, 63, 14, 14, 6 0           Conv3d_4d_2b_3x3_bn[0][0]        \n",
      "__________________________________________________________________________________________________\n",
      "Conv3d_4d_3b_1x1 (Activation)   (None, 63, 14, 14, 6 0           Conv3d_4d_3b_1x1_bn[0][0]        \n",
      "__________________________________________________________________________________________________\n",
      "Mixed_4d (Concatenate)          (None, 63, 14, 14, 5 0           Conv3d_4d_0a_1x1[0][0]           \n",
      "                                                                 Conv3d_4d_1b_3x3[0][0]           \n",
      "                                                                 Conv3d_4d_2b_3x3[0][0]           \n",
      "                                                                 Conv3d_4d_3b_1x1[0][0]           \n",
      "__________________________________________________________________________________________________\n",
      "Conv3d_4e_1a_1x1_conv (Conv3D)  (None, 63, 14, 14, 1 73728       Mixed_4d[0][0]                   \n",
      "__________________________________________________________________________________________________\n",
      "Conv3d_4e_2a_1x1_conv (Conv3D)  (None, 63, 14, 14, 3 16384       Mixed_4d[0][0]                   \n",
      "__________________________________________________________________________________________________\n",
      "Conv3d_4e_1a_1x1_bn (BatchNorma (None, 63, 14, 14, 1 432         Conv3d_4e_1a_1x1_conv[0][0]      \n",
      "__________________________________________________________________________________________________\n",
      "Conv3d_4e_2a_1x1_bn (BatchNorma (None, 63, 14, 14, 3 96          Conv3d_4e_2a_1x1_conv[0][0]      \n",
      "__________________________________________________________________________________________________\n",
      "Conv3d_4e_1a_1x1 (Activation)   (None, 63, 14, 14, 1 0           Conv3d_4e_1a_1x1_bn[0][0]        \n",
      "__________________________________________________________________________________________________\n",
      "Conv3d_4e_2a_1x1 (Activation)   (None, 63, 14, 14, 3 0           Conv3d_4e_2a_1x1_bn[0][0]        \n",
      "__________________________________________________________________________________________________\n",
      "MaxPool2d_4e_3a_3x3 (MaxPooling (None, 63, 14, 14, 5 0           Mixed_4d[0][0]                   \n",
      "__________________________________________________________________________________________________\n",
      "Conv3d_4e_0a_1x1_conv (Conv3D)  (None, 63, 14, 14, 1 57344       Mixed_4d[0][0]                   \n",
      "__________________________________________________________________________________________________\n",
      "Conv3d_4e_1b_3x3_conv (Conv3D)  (None, 63, 14, 14, 2 1119744     Conv3d_4e_1a_1x1[0][0]           \n",
      "__________________________________________________________________________________________________\n",
      "Conv3d_4e_2b_3x3_conv (Conv3D)  (None, 63, 14, 14, 6 55296       Conv3d_4e_2a_1x1[0][0]           \n",
      "__________________________________________________________________________________________________\n",
      "Conv3d_4e_3b_1x1_conv (Conv3D)  (None, 63, 14, 14, 6 32768       MaxPool2d_4e_3a_3x3[0][0]        \n",
      "__________________________________________________________________________________________________\n",
      "Conv3d_4e_0a_1x1_bn (BatchNorma (None, 63, 14, 14, 1 336         Conv3d_4e_0a_1x1_conv[0][0]      \n",
      "__________________________________________________________________________________________________\n",
      "Conv3d_4e_1b_3x3_bn (BatchNorma (None, 63, 14, 14, 2 864         Conv3d_4e_1b_3x3_conv[0][0]      \n",
      "__________________________________________________________________________________________________\n",
      "Conv3d_4e_2b_3x3_bn (BatchNorma (None, 63, 14, 14, 6 192         Conv3d_4e_2b_3x3_conv[0][0]      \n",
      "__________________________________________________________________________________________________\n",
      "Conv3d_4e_3b_1x1_bn (BatchNorma (None, 63, 14, 14, 6 192         Conv3d_4e_3b_1x1_conv[0][0]      \n",
      "__________________________________________________________________________________________________\n",
      "Conv3d_4e_0a_1x1 (Activation)   (None, 63, 14, 14, 1 0           Conv3d_4e_0a_1x1_bn[0][0]        \n",
      "__________________________________________________________________________________________________\n",
      "Conv3d_4e_1b_3x3 (Activation)   (None, 63, 14, 14, 2 0           Conv3d_4e_1b_3x3_bn[0][0]        \n",
      "__________________________________________________________________________________________________\n",
      "Conv3d_4e_2b_3x3 (Activation)   (None, 63, 14, 14, 6 0           Conv3d_4e_2b_3x3_bn[0][0]        \n",
      "__________________________________________________________________________________________________\n",
      "Conv3d_4e_3b_1x1 (Activation)   (None, 63, 14, 14, 6 0           Conv3d_4e_3b_1x1_bn[0][0]        \n",
      "__________________________________________________________________________________________________\n",
      "Mixed_4e (Concatenate)          (None, 63, 14, 14, 5 0           Conv3d_4e_0a_1x1[0][0]           \n",
      "                                                                 Conv3d_4e_1b_3x3[0][0]           \n",
      "                                                                 Conv3d_4e_2b_3x3[0][0]           \n",
      "                                                                 Conv3d_4e_3b_1x1[0][0]           \n",
      "__________________________________________________________________________________________________\n",
      "Conv3d_4f_1a_1x1_conv (Conv3D)  (None, 63, 14, 14, 1 84480       Mixed_4e[0][0]                   \n",
      "__________________________________________________________________________________________________\n",
      "Conv3d_4f_2a_1x1_conv (Conv3D)  (None, 63, 14, 14, 3 16896       Mixed_4e[0][0]                   \n",
      "__________________________________________________________________________________________________\n",
      "Conv3d_4f_1a_1x1_bn (BatchNorma (None, 63, 14, 14, 1 480         Conv3d_4f_1a_1x1_conv[0][0]      \n",
      "__________________________________________________________________________________________________\n",
      "Conv3d_4f_2a_1x1_bn (BatchNorma (None, 63, 14, 14, 3 96          Conv3d_4f_2a_1x1_conv[0][0]      \n",
      "__________________________________________________________________________________________________\n",
      "Conv3d_4f_1a_1x1 (Activation)   (None, 63, 14, 14, 1 0           Conv3d_4f_1a_1x1_bn[0][0]        \n",
      "__________________________________________________________________________________________________\n",
      "Conv3d_4f_2a_1x1 (Activation)   (None, 63, 14, 14, 3 0           Conv3d_4f_2a_1x1_bn[0][0]        \n",
      "__________________________________________________________________________________________________\n",
      "MaxPool2d_4f_3a_3x3 (MaxPooling (None, 63, 14, 14, 5 0           Mixed_4e[0][0]                   \n",
      "__________________________________________________________________________________________________\n",
      "Conv3d_4f_0a_1x1_conv (Conv3D)  (None, 63, 14, 14, 2 135168      Mixed_4e[0][0]                   \n",
      "__________________________________________________________________________________________________\n",
      "Conv3d_4f_1b_3x3_conv (Conv3D)  (None, 63, 14, 14, 3 1382400     Conv3d_4f_1a_1x1[0][0]           \n",
      "__________________________________________________________________________________________________\n",
      "Conv3d_4f_2b_3x3_conv (Conv3D)  (None, 63, 14, 14, 1 110592      Conv3d_4f_2a_1x1[0][0]           \n",
      "__________________________________________________________________________________________________\n",
      "Conv3d_4f_3b_1x1_conv (Conv3D)  (None, 63, 14, 14, 1 67584       MaxPool2d_4f_3a_3x3[0][0]        \n",
      "__________________________________________________________________________________________________\n",
      "Conv3d_4f_0a_1x1_bn (BatchNorma (None, 63, 14, 14, 2 768         Conv3d_4f_0a_1x1_conv[0][0]      \n",
      "__________________________________________________________________________________________________\n",
      "Conv3d_4f_1b_3x3_bn (BatchNorma (None, 63, 14, 14, 3 960         Conv3d_4f_1b_3x3_conv[0][0]      \n",
      "__________________________________________________________________________________________________\n",
      "Conv3d_4f_2b_3x3_bn (BatchNorma (None, 63, 14, 14, 1 384         Conv3d_4f_2b_3x3_conv[0][0]      \n",
      "__________________________________________________________________________________________________\n",
      "Conv3d_4f_3b_1x1_bn (BatchNorma (None, 63, 14, 14, 1 384         Conv3d_4f_3b_1x1_conv[0][0]      \n",
      "__________________________________________________________________________________________________\n",
      "Conv3d_4f_0a_1x1 (Activation)   (None, 63, 14, 14, 2 0           Conv3d_4f_0a_1x1_bn[0][0]        \n",
      "__________________________________________________________________________________________________\n",
      "Conv3d_4f_1b_3x3 (Activation)   (None, 63, 14, 14, 3 0           Conv3d_4f_1b_3x3_bn[0][0]        \n",
      "__________________________________________________________________________________________________\n",
      "Conv3d_4f_2b_3x3 (Activation)   (None, 63, 14, 14, 1 0           Conv3d_4f_2b_3x3_bn[0][0]        \n",
      "__________________________________________________________________________________________________\n",
      "Conv3d_4f_3b_1x1 (Activation)   (None, 63, 14, 14, 1 0           Conv3d_4f_3b_1x1_bn[0][0]        \n",
      "__________________________________________________________________________________________________\n",
      "Mixed_4f (Concatenate)          (None, 63, 14, 14, 8 0           Conv3d_4f_0a_1x1[0][0]           \n",
      "                                                                 Conv3d_4f_1b_3x3[0][0]           \n",
      "                                                                 Conv3d_4f_2b_3x3[0][0]           \n",
      "                                                                 Conv3d_4f_3b_1x1[0][0]           \n",
      "__________________________________________________________________________________________________\n",
      "MaxPool2d_5a_2x2 (MaxPooling3D) (None, 32, 7, 7, 832 0           Mixed_4f[0][0]                   \n",
      "__________________________________________________________________________________________________\n",
      "Conv3d_5b_1a_1x1_conv (Conv3D)  (None, 32, 7, 7, 160 133120      MaxPool2d_5a_2x2[0][0]           \n",
      "__________________________________________________________________________________________________\n",
      "Conv3d_5b_2a_1x1_conv (Conv3D)  (None, 32, 7, 7, 32) 26624       MaxPool2d_5a_2x2[0][0]           \n",
      "__________________________________________________________________________________________________\n",
      "Conv3d_5b_1a_1x1_bn (BatchNorma (None, 32, 7, 7, 160 480         Conv3d_5b_1a_1x1_conv[0][0]      \n",
      "__________________________________________________________________________________________________\n",
      "Conv3d_5b_2a_1x1_bn (BatchNorma (None, 32, 7, 7, 32) 96          Conv3d_5b_2a_1x1_conv[0][0]      \n",
      "__________________________________________________________________________________________________\n",
      "Conv3d_5b_1a_1x1 (Activation)   (None, 32, 7, 7, 160 0           Conv3d_5b_1a_1x1_bn[0][0]        \n",
      "__________________________________________________________________________________________________\n",
      "Conv3d_5b_2a_1x1 (Activation)   (None, 32, 7, 7, 32) 0           Conv3d_5b_2a_1x1_bn[0][0]        \n",
      "__________________________________________________________________________________________________\n",
      "MaxPool2d_5b_3a_3x3 (MaxPooling (None, 32, 7, 7, 832 0           MaxPool2d_5a_2x2[0][0]           \n",
      "__________________________________________________________________________________________________\n",
      "Conv3d_5b_0a_1x1_conv (Conv3D)  (None, 32, 7, 7, 256 212992      MaxPool2d_5a_2x2[0][0]           \n",
      "__________________________________________________________________________________________________\n",
      "Conv3d_5b_1b_3x3_conv (Conv3D)  (None, 32, 7, 7, 320 1382400     Conv3d_5b_1a_1x1[0][0]           \n",
      "__________________________________________________________________________________________________\n",
      "Conv3d_5b_2b_3x3_conv (Conv3D)  (None, 32, 7, 7, 128 110592      Conv3d_5b_2a_1x1[0][0]           \n",
      "__________________________________________________________________________________________________\n",
      "Conv3d_5b_3b_1x1_conv (Conv3D)  (None, 32, 7, 7, 128 106496      MaxPool2d_5b_3a_3x3[0][0]        \n",
      "__________________________________________________________________________________________________\n",
      "Conv3d_5b_0a_1x1_bn (BatchNorma (None, 32, 7, 7, 256 768         Conv3d_5b_0a_1x1_conv[0][0]      \n",
      "__________________________________________________________________________________________________\n",
      "Conv3d_5b_1b_3x3_bn (BatchNorma (None, 32, 7, 7, 320 960         Conv3d_5b_1b_3x3_conv[0][0]      \n",
      "__________________________________________________________________________________________________\n",
      "Conv3d_5b_2b_3x3_bn (BatchNorma (None, 32, 7, 7, 128 384         Conv3d_5b_2b_3x3_conv[0][0]      \n",
      "__________________________________________________________________________________________________\n",
      "Conv3d_5b_3b_1x1_bn (BatchNorma (None, 32, 7, 7, 128 384         Conv3d_5b_3b_1x1_conv[0][0]      \n",
      "__________________________________________________________________________________________________\n",
      "Conv3d_5b_0a_1x1 (Activation)   (None, 32, 7, 7, 256 0           Conv3d_5b_0a_1x1_bn[0][0]        \n",
      "__________________________________________________________________________________________________\n",
      "Conv3d_5b_1b_3x3 (Activation)   (None, 32, 7, 7, 320 0           Conv3d_5b_1b_3x3_bn[0][0]        \n",
      "__________________________________________________________________________________________________\n",
      "Conv3d_5b_2b_3x3 (Activation)   (None, 32, 7, 7, 128 0           Conv3d_5b_2b_3x3_bn[0][0]        \n",
      "__________________________________________________________________________________________________\n",
      "Conv3d_5b_3b_1x1 (Activation)   (None, 32, 7, 7, 128 0           Conv3d_5b_3b_1x1_bn[0][0]        \n",
      "__________________________________________________________________________________________________\n",
      "Mixed_5b (Concatenate)          (None, 32, 7, 7, 832 0           Conv3d_5b_0a_1x1[0][0]           \n",
      "                                                                 Conv3d_5b_1b_3x3[0][0]           \n",
      "                                                                 Conv3d_5b_2b_3x3[0][0]           \n",
      "                                                                 Conv3d_5b_3b_1x1[0][0]           \n",
      "__________________________________________________________________________________________________\n",
      "Conv3d_5c_1a_1x1_conv (Conv3D)  (None, 32, 7, 7, 192 159744      Mixed_5b[0][0]                   \n",
      "__________________________________________________________________________________________________\n",
      "Conv3d_5c_2a_1x1_conv (Conv3D)  (None, 32, 7, 7, 48) 39936       Mixed_5b[0][0]                   \n",
      "__________________________________________________________________________________________________\n",
      "Conv3d_5c_1a_1x1_bn (BatchNorma (None, 32, 7, 7, 192 576         Conv3d_5c_1a_1x1_conv[0][0]      \n",
      "__________________________________________________________________________________________________\n",
      "Conv3d_5c_2a_1x1_bn (BatchNorma (None, 32, 7, 7, 48) 144         Conv3d_5c_2a_1x1_conv[0][0]      \n",
      "__________________________________________________________________________________________________\n",
      "Conv3d_5c_1a_1x1 (Activation)   (None, 32, 7, 7, 192 0           Conv3d_5c_1a_1x1_bn[0][0]        \n",
      "__________________________________________________________________________________________________\n",
      "Conv3d_5c_2a_1x1 (Activation)   (None, 32, 7, 7, 48) 0           Conv3d_5c_2a_1x1_bn[0][0]        \n",
      "__________________________________________________________________________________________________\n",
      "MaxPool2d_5c_3a_3x3 (MaxPooling (None, 32, 7, 7, 832 0           Mixed_5b[0][0]                   \n",
      "__________________________________________________________________________________________________\n",
      "Conv3d_5c_0a_1x1_conv (Conv3D)  (None, 32, 7, 7, 384 319488      Mixed_5b[0][0]                   \n",
      "__________________________________________________________________________________________________\n",
      "Conv3d_5c_1b_3x3_conv (Conv3D)  (None, 32, 7, 7, 384 1990656     Conv3d_5c_1a_1x1[0][0]           \n",
      "__________________________________________________________________________________________________\n",
      "Conv3d_5c_2b_3x3_conv (Conv3D)  (None, 32, 7, 7, 128 165888      Conv3d_5c_2a_1x1[0][0]           \n",
      "__________________________________________________________________________________________________\n",
      "Conv3d_5c_3b_1x1_conv (Conv3D)  (None, 32, 7, 7, 128 106496      MaxPool2d_5c_3a_3x3[0][0]        \n",
      "__________________________________________________________________________________________________\n",
      "Conv3d_5c_0a_1x1_bn (BatchNorma (None, 32, 7, 7, 384 1152        Conv3d_5c_0a_1x1_conv[0][0]      \n",
      "__________________________________________________________________________________________________\n",
      "Conv3d_5c_1b_3x3_bn (BatchNorma (None, 32, 7, 7, 384 1152        Conv3d_5c_1b_3x3_conv[0][0]      \n",
      "__________________________________________________________________________________________________\n",
      "Conv3d_5c_2b_3x3_bn (BatchNorma (None, 32, 7, 7, 128 384         Conv3d_5c_2b_3x3_conv[0][0]      \n",
      "__________________________________________________________________________________________________\n",
      "Conv3d_5c_3b_1x1_bn (BatchNorma (None, 32, 7, 7, 128 384         Conv3d_5c_3b_1x1_conv[0][0]      \n",
      "__________________________________________________________________________________________________\n",
      "Conv3d_5c_0a_1x1 (Activation)   (None, 32, 7, 7, 384 0           Conv3d_5c_0a_1x1_bn[0][0]        \n",
      "__________________________________________________________________________________________________\n",
      "Conv3d_5c_1b_3x3 (Activation)   (None, 32, 7, 7, 384 0           Conv3d_5c_1b_3x3_bn[0][0]        \n",
      "__________________________________________________________________________________________________\n",
      "Conv3d_5c_2b_3x3 (Activation)   (None, 32, 7, 7, 128 0           Conv3d_5c_2b_3x3_bn[0][0]        \n",
      "__________________________________________________________________________________________________\n",
      "Conv3d_5c_3b_1x1 (Activation)   (None, 32, 7, 7, 128 0           Conv3d_5c_3b_1x1_bn[0][0]        \n",
      "__________________________________________________________________________________________________\n",
      "Mixed_5c (Concatenate)          (None, 32, 7, 7, 102 0           Conv3d_5c_0a_1x1[0][0]           \n",
      "                                                                 Conv3d_5c_1b_3x3[0][0]           \n",
      "                                                                 Conv3d_5c_2b_3x3[0][0]           \n",
      "                                                                 Conv3d_5c_3b_1x1[0][0]           \n",
      "__________________________________________________________________________________________________\n",
      "global_avg_pool (AveragePooling (None, 31, 1, 1, 102 0           Mixed_5c[0][0]                   \n",
      "==================================================================================================\n",
      "Total params: 12,294,544\n",
      "Trainable params: 12,279,984\n",
      "Non-trainable params: 14,560\n",
      "__________________________________________________________________________________________________\n"
     ]
    }
   ],
   "source": [
    "full_model.summary()"
   ]
  },
  {
   "cell_type": "code",
   "execution_count": 38,
   "metadata": {},
   "outputs": [],
   "source": [
    "pred = rgb_model.predict(X_train[0,:,:,:,:].reshape(1,250,224,224,3))"
   ]
  },
  {
   "cell_type": "code",
   "execution_count": 39,
   "metadata": {},
   "outputs": [
    {
     "data": {
      "text/plain": [
       "(1, 31, 1, 1, 1024)"
      ]
     },
     "execution_count": 39,
     "metadata": {},
     "output_type": "execute_result"
    }
   ],
   "source": [
    "pred.shape"
   ]
  },
  {
   "cell_type": "code",
   "execution_count": 42,
   "metadata": {},
   "outputs": [],
   "source": [
    "pred3 = rgb_model.predict(X_train[0:3,:,:,:,:])"
   ]
  },
  {
   "cell_type": "code",
   "execution_count": 43,
   "metadata": {},
   "outputs": [
    {
     "data": {
      "text/plain": [
       "(3, 31, 1, 1, 1024)"
      ]
     },
     "execution_count": 43,
     "metadata": {},
     "output_type": "execute_result"
    }
   ],
   "source": [
    "pred3.shape"
   ]
  },
  {
   "cell_type": "code",
   "execution_count": 46,
   "metadata": {},
   "outputs": [],
   "source": [
    "# snippet to compute TVL1 flow\n",
    "def compute_TVL1(prev, curr, bound=15):\n",
    "    \"\"\"Compute the TV-L1 optical flow.\"\"\"\n",
    "    TVL1 = cv2.DualTVL1OpticalFlow_create()\n",
    "    flow = TVL1.calc(prev, curr, None)\n",
    "    assert flow.dtype == np.float32\n",
    "\n",
    "    flow = (flow + bound) * (255.0 / (2*bound))\n",
    "    flow = np.round(flow).astype(int)\n",
    "    flow[flow >= 255] = 255\n",
    "    flow[flow <= 0] = 0\n",
    "\n",
    "    return flow"
   ]
  },
  {
   "cell_type": "code",
   "execution_count": 82,
   "metadata": {},
   "outputs": [],
   "source": [
    "import video_generator"
   ]
  },
  {
   "cell_type": "code",
   "execution_count": 98,
   "metadata": {},
   "outputs": [],
   "source": [
    "test_dir = '../SoccerNet-code/data/test'\n",
    "train_dir = '../SoccerNet-code/data/train'\n",
    "dims = (250,224,224,3)\n",
    "batch_size = 8\n",
    "videogen = video_generator.VideoGenerator(train_dir, test_dir, dims, batch_size)"
   ]
  },
  {
   "cell_type": "code",
   "execution_count": 118,
   "metadata": {},
   "outputs": [],
   "source": [
    "training_generator = videogen.generate(train_or_test='train')\n",
    "training_steps_per_epoch = len(videogen.filenames_train) // batch_size\n",
    "testing_generator = videogen.generate(train_or_test=\"test\")\n",
    "testing_steps_per_epoch = len(videogen.filenames_test) // batch_size"
   ]
  },
  {
   "cell_type": "markdown",
   "metadata": {},
   "source": [
    "Single stream 3D convolution model in RGB channel using ImageNet/Kinetics weights"
   ]
  },
  {
   "cell_type": "code",
   "execution_count": 104,
   "metadata": {},
   "outputs": [],
   "source": [
    "def RGB_model(NUM_FRAMES, FRAME_HEIGHT, FRAME_WIDTH, NUM_CLASSES, dropout_prob):\n",
    "\n",
    "    rgb_model = Inception_Inflated3d(\n",
    "        include_top=False,\n",
    "        weights='rgb_imagenet_and_kinetics',\n",
    "        input_shape=(NUM_FRAMES, FRAME_HEIGHT, FRAME_WIDTH, 3))\n",
    "\n",
    "    x1 = rgb_model.layers[-1].output\n",
    "    x1 = Dropout(dropout_prob)(x1)\n",
    "\n",
    "    x1 = generate_logit(x1, '1x1_Conv3d_rgb_logits', NUM_CLASSES)\n",
    "\n",
    "    x = Activation('softmax', name='prediction')(x1)\n",
    "\n",
    "    model = Model(input=rgb_model.input, output=x)\n",
    "\n",
    "    return model"
   ]
  },
  {
   "cell_type": "code",
   "execution_count": 105,
   "metadata": {},
   "outputs": [],
   "source": [
    "NUM_FRAMES=250\n",
    "FRAME_HEIGHT=224\n",
    "FRAME_WIDTH=224\n",
    "NUM_CLASSES=2\n",
    "dropout_prob=0.5"
   ]
  },
  {
   "cell_type": "code",
   "execution_count": 106,
   "metadata": {},
   "outputs": [
    {
     "name": "stderr",
     "output_type": "stream",
     "text": [
      "/home/dshin1331/anaconda3/lib/python3.7/site-packages/ipykernel_launcher.py:15: UserWarning: Update your `Model` call to the Keras 2 API: `Model(inputs=Tensor(\"in..., outputs=Tensor(\"pr...)`\n",
      "  from ipykernel import kernelapp as app\n"
     ]
    }
   ],
   "source": [
    "test_model = RGB_model(NUM_FRAMES, FRAME_HEIGHT, FRAME_WIDTH, NUM_CLASSES, dropout_prob)"
   ]
  },
  {
   "cell_type": "code",
   "execution_count": 108,
   "metadata": {},
   "outputs": [],
   "source": [
    "from keras.optimizers import adam"
   ]
  },
  {
   "cell_type": "code",
   "execution_count": 109,
   "metadata": {},
   "outputs": [],
   "source": [
    "test_model.compile(loss='categorical_crossentropy',\n",
    "              optimizer=adam(),\n",
    "              metrics=['accuracy'])"
   ]
  },
  {
   "cell_type": "code",
   "execution_count": null,
   "metadata": {},
   "outputs": [],
   "source": [
    "test_model.predict()"
   ]
  },
  {
   "cell_type": "code",
   "execution_count": 121,
   "metadata": {},
   "outputs": [],
   "source": [
    "for v in training_generator:\n",
    "    vid =v\n",
    "    break"
   ]
  },
  {
   "cell_type": "code",
   "execution_count": 125,
   "metadata": {},
   "outputs": [
    {
     "data": {
      "text/plain": [
       "(250, 224, 224, 3)"
      ]
     },
     "execution_count": 125,
     "metadata": {},
     "output_type": "execute_result"
    }
   ],
   "source": [
    "vid[0][0].shape"
   ]
  },
  {
   "cell_type": "code",
   "execution_count": null,
   "metadata": {},
   "outputs": [],
   "source": [
    "test_model.predict(vid[0])"
   ]
  },
  {
   "cell_type": "code",
   "execution_count": 110,
   "metadata": {},
   "outputs": [
    {
     "name": "stdout",
     "output_type": "stream",
     "text": [
      "WARNING:tensorflow:From /home/dshin1331/anaconda3/lib/python3.7/site-packages/tensorflow/python/ops/math_ops.py:3066: to_int32 (from tensorflow.python.ops.math_ops) is deprecated and will be removed in a future version.\n",
      "Instructions for updating:\n",
      "Use tf.cast instead.\n",
      "Epoch 1/2\n"
     ]
    },
    {
     "ename": "KeyboardInterrupt",
     "evalue": "",
     "output_type": "error",
     "traceback": [
      "\u001b[0;31m---------------------------------------------------------------------------\u001b[0m",
      "\u001b[0;31mKeyboardInterrupt\u001b[0m                         Traceback (most recent call last)",
      "\u001b[0;32m<ipython-input-110-13f86a341f5f>\u001b[0m in \u001b[0;36m<module>\u001b[0;34m\u001b[0m\n\u001b[1;32m      3\u001b[0m                          \u001b[0mepochs\u001b[0m\u001b[0;34m=\u001b[0m\u001b[0;36m2\u001b[0m\u001b[0;34m,\u001b[0m\u001b[0;34m\u001b[0m\u001b[0;34m\u001b[0m\u001b[0m\n\u001b[1;32m      4\u001b[0m                          \u001b[0mvalidation_data\u001b[0m\u001b[0;34m=\u001b[0m\u001b[0mtesting_generator\u001b[0m\u001b[0;34m,\u001b[0m\u001b[0;34m\u001b[0m\u001b[0;34m\u001b[0m\u001b[0m\n\u001b[0;32m----> 5\u001b[0;31m                          validation_steps=testing_steps_per_epoch)\n\u001b[0m",
      "\u001b[0;32m~/anaconda3/lib/python3.7/site-packages/keras/legacy/interfaces.py\u001b[0m in \u001b[0;36mwrapper\u001b[0;34m(*args, **kwargs)\u001b[0m\n\u001b[1;32m     89\u001b[0m                 warnings.warn('Update your `' + object_name + '` call to the ' +\n\u001b[1;32m     90\u001b[0m                               'Keras 2 API: ' + signature, stacklevel=2)\n\u001b[0;32m---> 91\u001b[0;31m             \u001b[0;32mreturn\u001b[0m \u001b[0mfunc\u001b[0m\u001b[0;34m(\u001b[0m\u001b[0;34m*\u001b[0m\u001b[0margs\u001b[0m\u001b[0;34m,\u001b[0m \u001b[0;34m**\u001b[0m\u001b[0mkwargs\u001b[0m\u001b[0;34m)\u001b[0m\u001b[0;34m\u001b[0m\u001b[0;34m\u001b[0m\u001b[0m\n\u001b[0m\u001b[1;32m     92\u001b[0m         \u001b[0mwrapper\u001b[0m\u001b[0;34m.\u001b[0m\u001b[0m_original_function\u001b[0m \u001b[0;34m=\u001b[0m \u001b[0mfunc\u001b[0m\u001b[0;34m\u001b[0m\u001b[0;34m\u001b[0m\u001b[0m\n\u001b[1;32m     93\u001b[0m         \u001b[0;32mreturn\u001b[0m \u001b[0mwrapper\u001b[0m\u001b[0;34m\u001b[0m\u001b[0;34m\u001b[0m\u001b[0m\n",
      "\u001b[0;32m~/anaconda3/lib/python3.7/site-packages/keras/engine/training.py\u001b[0m in \u001b[0;36mfit_generator\u001b[0;34m(self, generator, steps_per_epoch, epochs, verbose, callbacks, validation_data, validation_steps, class_weight, max_queue_size, workers, use_multiprocessing, shuffle, initial_epoch)\u001b[0m\n\u001b[1;32m   1416\u001b[0m             \u001b[0muse_multiprocessing\u001b[0m\u001b[0;34m=\u001b[0m\u001b[0muse_multiprocessing\u001b[0m\u001b[0;34m,\u001b[0m\u001b[0;34m\u001b[0m\u001b[0;34m\u001b[0m\u001b[0m\n\u001b[1;32m   1417\u001b[0m             \u001b[0mshuffle\u001b[0m\u001b[0;34m=\u001b[0m\u001b[0mshuffle\u001b[0m\u001b[0;34m,\u001b[0m\u001b[0;34m\u001b[0m\u001b[0;34m\u001b[0m\u001b[0m\n\u001b[0;32m-> 1418\u001b[0;31m             initial_epoch=initial_epoch)\n\u001b[0m\u001b[1;32m   1419\u001b[0m \u001b[0;34m\u001b[0m\u001b[0m\n\u001b[1;32m   1420\u001b[0m     \u001b[0;34m@\u001b[0m\u001b[0minterfaces\u001b[0m\u001b[0;34m.\u001b[0m\u001b[0mlegacy_generator_methods_support\u001b[0m\u001b[0;34m\u001b[0m\u001b[0;34m\u001b[0m\u001b[0m\n",
      "\u001b[0;32m~/anaconda3/lib/python3.7/site-packages/keras/engine/training_generator.py\u001b[0m in \u001b[0;36mfit_generator\u001b[0;34m(model, generator, steps_per_epoch, epochs, verbose, callbacks, validation_data, validation_steps, class_weight, max_queue_size, workers, use_multiprocessing, shuffle, initial_epoch)\u001b[0m\n\u001b[1;32m    215\u001b[0m                 outs = model.train_on_batch(x, y,\n\u001b[1;32m    216\u001b[0m                                             \u001b[0msample_weight\u001b[0m\u001b[0;34m=\u001b[0m\u001b[0msample_weight\u001b[0m\u001b[0;34m,\u001b[0m\u001b[0;34m\u001b[0m\u001b[0;34m\u001b[0m\u001b[0m\n\u001b[0;32m--> 217\u001b[0;31m                                             class_weight=class_weight)\n\u001b[0m\u001b[1;32m    218\u001b[0m \u001b[0;34m\u001b[0m\u001b[0m\n\u001b[1;32m    219\u001b[0m                 \u001b[0mouts\u001b[0m \u001b[0;34m=\u001b[0m \u001b[0mto_list\u001b[0m\u001b[0;34m(\u001b[0m\u001b[0mouts\u001b[0m\u001b[0;34m)\u001b[0m\u001b[0;34m\u001b[0m\u001b[0;34m\u001b[0m\u001b[0m\n",
      "\u001b[0;32m~/anaconda3/lib/python3.7/site-packages/keras/engine/training.py\u001b[0m in \u001b[0;36mtrain_on_batch\u001b[0;34m(self, x, y, sample_weight, class_weight)\u001b[0m\n\u001b[1;32m   1215\u001b[0m             \u001b[0mins\u001b[0m \u001b[0;34m=\u001b[0m \u001b[0mx\u001b[0m \u001b[0;34m+\u001b[0m \u001b[0my\u001b[0m \u001b[0;34m+\u001b[0m \u001b[0msample_weights\u001b[0m\u001b[0;34m\u001b[0m\u001b[0;34m\u001b[0m\u001b[0m\n\u001b[1;32m   1216\u001b[0m         \u001b[0mself\u001b[0m\u001b[0;34m.\u001b[0m\u001b[0m_make_train_function\u001b[0m\u001b[0;34m(\u001b[0m\u001b[0;34m)\u001b[0m\u001b[0;34m\u001b[0m\u001b[0;34m\u001b[0m\u001b[0m\n\u001b[0;32m-> 1217\u001b[0;31m         \u001b[0moutputs\u001b[0m \u001b[0;34m=\u001b[0m \u001b[0mself\u001b[0m\u001b[0;34m.\u001b[0m\u001b[0mtrain_function\u001b[0m\u001b[0;34m(\u001b[0m\u001b[0mins\u001b[0m\u001b[0;34m)\u001b[0m\u001b[0;34m\u001b[0m\u001b[0;34m\u001b[0m\u001b[0m\n\u001b[0m\u001b[1;32m   1218\u001b[0m         \u001b[0;32mreturn\u001b[0m \u001b[0munpack_singleton\u001b[0m\u001b[0;34m(\u001b[0m\u001b[0moutputs\u001b[0m\u001b[0;34m)\u001b[0m\u001b[0;34m\u001b[0m\u001b[0;34m\u001b[0m\u001b[0m\n\u001b[1;32m   1219\u001b[0m \u001b[0;34m\u001b[0m\u001b[0m\n",
      "\u001b[0;32m~/anaconda3/lib/python3.7/site-packages/keras/backend/tensorflow_backend.py\u001b[0m in \u001b[0;36m__call__\u001b[0;34m(self, inputs)\u001b[0m\n\u001b[1;32m   2695\u001b[0m \u001b[0;34m\u001b[0m\u001b[0m\n\u001b[1;32m   2696\u001b[0m     \u001b[0;32mdef\u001b[0m \u001b[0m__call__\u001b[0m\u001b[0;34m(\u001b[0m\u001b[0mself\u001b[0m\u001b[0;34m,\u001b[0m \u001b[0minputs\u001b[0m\u001b[0;34m)\u001b[0m\u001b[0;34m:\u001b[0m\u001b[0;34m\u001b[0m\u001b[0;34m\u001b[0m\u001b[0m\n\u001b[0;32m-> 2697\u001b[0;31m         \u001b[0;32mif\u001b[0m \u001b[0mhasattr\u001b[0m\u001b[0;34m(\u001b[0m\u001b[0mget_session\u001b[0m\u001b[0;34m(\u001b[0m\u001b[0;34m)\u001b[0m\u001b[0;34m,\u001b[0m \u001b[0;34m'_make_callable_from_options'\u001b[0m\u001b[0;34m)\u001b[0m\u001b[0;34m:\u001b[0m\u001b[0;34m\u001b[0m\u001b[0;34m\u001b[0m\u001b[0m\n\u001b[0m\u001b[1;32m   2698\u001b[0m             \u001b[0;32mif\u001b[0m \u001b[0mpy_any\u001b[0m\u001b[0;34m(\u001b[0m\u001b[0mis_sparse\u001b[0m\u001b[0;34m(\u001b[0m\u001b[0mx\u001b[0m\u001b[0;34m)\u001b[0m \u001b[0;32mfor\u001b[0m \u001b[0mx\u001b[0m \u001b[0;32min\u001b[0m \u001b[0mself\u001b[0m\u001b[0;34m.\u001b[0m\u001b[0minputs\u001b[0m\u001b[0;34m)\u001b[0m\u001b[0;34m:\u001b[0m\u001b[0;34m\u001b[0m\u001b[0;34m\u001b[0m\u001b[0m\n\u001b[1;32m   2699\u001b[0m                 \u001b[0;32mif\u001b[0m \u001b[0mpy_any\u001b[0m\u001b[0;34m(\u001b[0m\u001b[0mis_tensor\u001b[0m\u001b[0;34m(\u001b[0m\u001b[0mx\u001b[0m\u001b[0;34m)\u001b[0m \u001b[0;32mfor\u001b[0m \u001b[0mx\u001b[0m \u001b[0;32min\u001b[0m \u001b[0minputs\u001b[0m\u001b[0;34m)\u001b[0m\u001b[0;34m:\u001b[0m\u001b[0;34m\u001b[0m\u001b[0;34m\u001b[0m\u001b[0m\n",
      "\u001b[0;32m~/anaconda3/lib/python3.7/site-packages/keras/backend/tensorflow_backend.py\u001b[0m in \u001b[0;36mget_session\u001b[0;34m()\u001b[0m\n\u001b[1;32m    197\u001b[0m                 \u001b[0;31m# not already marked as initialized.\u001b[0m\u001b[0;34m\u001b[0m\u001b[0;34m\u001b[0m\u001b[0;34m\u001b[0m\u001b[0m\n\u001b[1;32m    198\u001b[0m                 is_initialized = session.run(\n\u001b[0;32m--> 199\u001b[0;31m                     [tf.is_variable_initialized(v) for v in candidate_vars])\n\u001b[0m\u001b[1;32m    200\u001b[0m                 \u001b[0muninitialized_vars\u001b[0m \u001b[0;34m=\u001b[0m \u001b[0;34m[\u001b[0m\u001b[0;34m]\u001b[0m\u001b[0;34m\u001b[0m\u001b[0;34m\u001b[0m\u001b[0m\n\u001b[1;32m    201\u001b[0m                 \u001b[0;32mfor\u001b[0m \u001b[0mflag\u001b[0m\u001b[0;34m,\u001b[0m \u001b[0mv\u001b[0m \u001b[0;32min\u001b[0m \u001b[0mzip\u001b[0m\u001b[0;34m(\u001b[0m\u001b[0mis_initialized\u001b[0m\u001b[0;34m,\u001b[0m \u001b[0mcandidate_vars\u001b[0m\u001b[0;34m)\u001b[0m\u001b[0;34m:\u001b[0m\u001b[0;34m\u001b[0m\u001b[0;34m\u001b[0m\u001b[0m\n",
      "\u001b[0;32m~/anaconda3/lib/python3.7/site-packages/tensorflow/python/client/session.py\u001b[0m in \u001b[0;36mrun\u001b[0;34m(self, fetches, feed_dict, options, run_metadata)\u001b[0m\n\u001b[1;32m    927\u001b[0m     \u001b[0;32mtry\u001b[0m\u001b[0;34m:\u001b[0m\u001b[0;34m\u001b[0m\u001b[0;34m\u001b[0m\u001b[0m\n\u001b[1;32m    928\u001b[0m       result = self._run(None, fetches, feed_dict, options_ptr,\n\u001b[0;32m--> 929\u001b[0;31m                          run_metadata_ptr)\n\u001b[0m\u001b[1;32m    930\u001b[0m       \u001b[0;32mif\u001b[0m \u001b[0mrun_metadata\u001b[0m\u001b[0;34m:\u001b[0m\u001b[0;34m\u001b[0m\u001b[0;34m\u001b[0m\u001b[0m\n\u001b[1;32m    931\u001b[0m         \u001b[0mproto_data\u001b[0m \u001b[0;34m=\u001b[0m \u001b[0mtf_session\u001b[0m\u001b[0;34m.\u001b[0m\u001b[0mTF_GetBuffer\u001b[0m\u001b[0;34m(\u001b[0m\u001b[0mrun_metadata_ptr\u001b[0m\u001b[0;34m)\u001b[0m\u001b[0;34m\u001b[0m\u001b[0;34m\u001b[0m\u001b[0m\n",
      "\u001b[0;32m~/anaconda3/lib/python3.7/site-packages/tensorflow/python/client/session.py\u001b[0m in \u001b[0;36m_run\u001b[0;34m(self, handle, fetches, feed_dict, options, run_metadata)\u001b[0m\n\u001b[1;32m   1150\u001b[0m     \u001b[0;32mif\u001b[0m \u001b[0mfinal_fetches\u001b[0m \u001b[0;32mor\u001b[0m \u001b[0mfinal_targets\u001b[0m \u001b[0;32mor\u001b[0m \u001b[0;34m(\u001b[0m\u001b[0mhandle\u001b[0m \u001b[0;32mand\u001b[0m \u001b[0mfeed_dict_tensor\u001b[0m\u001b[0;34m)\u001b[0m\u001b[0;34m:\u001b[0m\u001b[0;34m\u001b[0m\u001b[0;34m\u001b[0m\u001b[0m\n\u001b[1;32m   1151\u001b[0m       results = self._do_run(handle, final_targets, final_fetches,\n\u001b[0;32m-> 1152\u001b[0;31m                              feed_dict_tensor, options, run_metadata)\n\u001b[0m\u001b[1;32m   1153\u001b[0m     \u001b[0;32melse\u001b[0m\u001b[0;34m:\u001b[0m\u001b[0;34m\u001b[0m\u001b[0;34m\u001b[0m\u001b[0m\n\u001b[1;32m   1154\u001b[0m       \u001b[0mresults\u001b[0m \u001b[0;34m=\u001b[0m \u001b[0;34m[\u001b[0m\u001b[0;34m]\u001b[0m\u001b[0;34m\u001b[0m\u001b[0;34m\u001b[0m\u001b[0m\n",
      "\u001b[0;32m~/anaconda3/lib/python3.7/site-packages/tensorflow/python/client/session.py\u001b[0m in \u001b[0;36m_do_run\u001b[0;34m(self, handle, target_list, fetch_list, feed_dict, options, run_metadata)\u001b[0m\n\u001b[1;32m   1326\u001b[0m     \u001b[0;32mif\u001b[0m \u001b[0mhandle\u001b[0m \u001b[0;32mis\u001b[0m \u001b[0;32mNone\u001b[0m\u001b[0;34m:\u001b[0m\u001b[0;34m\u001b[0m\u001b[0;34m\u001b[0m\u001b[0m\n\u001b[1;32m   1327\u001b[0m       return self._do_call(_run_fn, feeds, fetches, targets, options,\n\u001b[0;32m-> 1328\u001b[0;31m                            run_metadata)\n\u001b[0m\u001b[1;32m   1329\u001b[0m     \u001b[0;32melse\u001b[0m\u001b[0;34m:\u001b[0m\u001b[0;34m\u001b[0m\u001b[0;34m\u001b[0m\u001b[0m\n\u001b[1;32m   1330\u001b[0m       \u001b[0;32mreturn\u001b[0m \u001b[0mself\u001b[0m\u001b[0;34m.\u001b[0m\u001b[0m_do_call\u001b[0m\u001b[0;34m(\u001b[0m\u001b[0m_prun_fn\u001b[0m\u001b[0;34m,\u001b[0m \u001b[0mhandle\u001b[0m\u001b[0;34m,\u001b[0m \u001b[0mfeeds\u001b[0m\u001b[0;34m,\u001b[0m \u001b[0mfetches\u001b[0m\u001b[0;34m)\u001b[0m\u001b[0;34m\u001b[0m\u001b[0;34m\u001b[0m\u001b[0m\n",
      "\u001b[0;32m~/anaconda3/lib/python3.7/site-packages/tensorflow/python/client/session.py\u001b[0m in \u001b[0;36m_do_call\u001b[0;34m(self, fn, *args)\u001b[0m\n\u001b[1;32m   1332\u001b[0m   \u001b[0;32mdef\u001b[0m \u001b[0m_do_call\u001b[0m\u001b[0;34m(\u001b[0m\u001b[0mself\u001b[0m\u001b[0;34m,\u001b[0m \u001b[0mfn\u001b[0m\u001b[0;34m,\u001b[0m \u001b[0;34m*\u001b[0m\u001b[0margs\u001b[0m\u001b[0;34m)\u001b[0m\u001b[0;34m:\u001b[0m\u001b[0;34m\u001b[0m\u001b[0;34m\u001b[0m\u001b[0m\n\u001b[1;32m   1333\u001b[0m     \u001b[0;32mtry\u001b[0m\u001b[0;34m:\u001b[0m\u001b[0;34m\u001b[0m\u001b[0;34m\u001b[0m\u001b[0m\n\u001b[0;32m-> 1334\u001b[0;31m       \u001b[0;32mreturn\u001b[0m \u001b[0mfn\u001b[0m\u001b[0;34m(\u001b[0m\u001b[0;34m*\u001b[0m\u001b[0margs\u001b[0m\u001b[0;34m)\u001b[0m\u001b[0;34m\u001b[0m\u001b[0;34m\u001b[0m\u001b[0m\n\u001b[0m\u001b[1;32m   1335\u001b[0m     \u001b[0;32mexcept\u001b[0m \u001b[0merrors\u001b[0m\u001b[0;34m.\u001b[0m\u001b[0mOpError\u001b[0m \u001b[0;32mas\u001b[0m \u001b[0me\u001b[0m\u001b[0;34m:\u001b[0m\u001b[0;34m\u001b[0m\u001b[0;34m\u001b[0m\u001b[0m\n\u001b[1;32m   1336\u001b[0m       \u001b[0mmessage\u001b[0m \u001b[0;34m=\u001b[0m \u001b[0mcompat\u001b[0m\u001b[0;34m.\u001b[0m\u001b[0mas_text\u001b[0m\u001b[0;34m(\u001b[0m\u001b[0me\u001b[0m\u001b[0;34m.\u001b[0m\u001b[0mmessage\u001b[0m\u001b[0;34m)\u001b[0m\u001b[0;34m\u001b[0m\u001b[0;34m\u001b[0m\u001b[0m\n",
      "\u001b[0;32m~/anaconda3/lib/python3.7/site-packages/tensorflow/python/client/session.py\u001b[0m in \u001b[0;36m_run_fn\u001b[0;34m(feed_dict, fetch_list, target_list, options, run_metadata)\u001b[0m\n\u001b[1;32m   1317\u001b[0m       \u001b[0mself\u001b[0m\u001b[0;34m.\u001b[0m\u001b[0m_extend_graph\u001b[0m\u001b[0;34m(\u001b[0m\u001b[0;34m)\u001b[0m\u001b[0;34m\u001b[0m\u001b[0;34m\u001b[0m\u001b[0m\n\u001b[1;32m   1318\u001b[0m       return self._call_tf_sessionrun(\n\u001b[0;32m-> 1319\u001b[0;31m           options, feed_dict, fetch_list, target_list, run_metadata)\n\u001b[0m\u001b[1;32m   1320\u001b[0m \u001b[0;34m\u001b[0m\u001b[0m\n\u001b[1;32m   1321\u001b[0m     \u001b[0;32mdef\u001b[0m \u001b[0m_prun_fn\u001b[0m\u001b[0;34m(\u001b[0m\u001b[0mhandle\u001b[0m\u001b[0;34m,\u001b[0m \u001b[0mfeed_dict\u001b[0m\u001b[0;34m,\u001b[0m \u001b[0mfetch_list\u001b[0m\u001b[0;34m)\u001b[0m\u001b[0;34m:\u001b[0m\u001b[0;34m\u001b[0m\u001b[0;34m\u001b[0m\u001b[0m\n",
      "\u001b[0;32m~/anaconda3/lib/python3.7/site-packages/tensorflow/python/client/session.py\u001b[0m in \u001b[0;36m_call_tf_sessionrun\u001b[0;34m(self, options, feed_dict, fetch_list, target_list, run_metadata)\u001b[0m\n\u001b[1;32m   1405\u001b[0m     return tf_session.TF_SessionRun_wrapper(\n\u001b[1;32m   1406\u001b[0m         \u001b[0mself\u001b[0m\u001b[0;34m.\u001b[0m\u001b[0m_session\u001b[0m\u001b[0;34m,\u001b[0m \u001b[0moptions\u001b[0m\u001b[0;34m,\u001b[0m \u001b[0mfeed_dict\u001b[0m\u001b[0;34m,\u001b[0m \u001b[0mfetch_list\u001b[0m\u001b[0;34m,\u001b[0m \u001b[0mtarget_list\u001b[0m\u001b[0;34m,\u001b[0m\u001b[0;34m\u001b[0m\u001b[0;34m\u001b[0m\u001b[0m\n\u001b[0;32m-> 1407\u001b[0;31m         run_metadata)\n\u001b[0m\u001b[1;32m   1408\u001b[0m \u001b[0;34m\u001b[0m\u001b[0m\n\u001b[1;32m   1409\u001b[0m   \u001b[0;32mdef\u001b[0m \u001b[0m_call_tf_sessionprun\u001b[0m\u001b[0;34m(\u001b[0m\u001b[0mself\u001b[0m\u001b[0;34m,\u001b[0m \u001b[0mhandle\u001b[0m\u001b[0;34m,\u001b[0m \u001b[0mfeed_dict\u001b[0m\u001b[0;34m,\u001b[0m \u001b[0mfetch_list\u001b[0m\u001b[0;34m)\u001b[0m\u001b[0;34m:\u001b[0m\u001b[0;34m\u001b[0m\u001b[0;34m\u001b[0m\u001b[0m\n",
      "\u001b[0;31mKeyboardInterrupt\u001b[0m: "
     ]
    }
   ],
   "source": [
    "test_model.fit_generator(training_generator,\n",
    "                                 steps_per_epoch=training_steps_per_epoch,\n",
    "                         epochs=2,\n",
    "                         validation_data=testing_generator,\n",
    "                         validation_steps=testing_steps_per_epoch)"
   ]
  },
  {
   "cell_type": "code",
   "execution_count": null,
   "metadata": {},
   "outputs": [],
   "source": []
  }
 ],
 "metadata": {
  "kernelspec": {
   "display_name": "Python 3",
   "language": "python",
   "name": "python3"
  },
  "language_info": {
   "codemirror_mode": {
    "name": "ipython",
    "version": 3
   },
   "file_extension": ".py",
   "mimetype": "text/x-python",
   "name": "python",
   "nbconvert_exporter": "python",
   "pygments_lexer": "ipython3",
   "version": "3.7.3"
  }
 },
 "nbformat": 4,
 "nbformat_minor": 2
}
