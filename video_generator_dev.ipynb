{
 "cells": [
  {
   "cell_type": "code",
   "execution_count": 7,
   "metadata": {},
   "outputs": [],
   "source": [
    "import glob\n",
    "import random\n",
    "import os\n",
    "import cv2\n",
    "import numpy as np"
   ]
  },
  {
   "cell_type": "code",
   "execution_count": 24,
   "metadata": {},
   "outputs": [],
   "source": [
    "# Using template code from https://github.com/jphdotam/keras_generator_example\n",
    "\n",
    "class VideoGenerator:\n",
    "\n",
    "    def __init__(self, train_dir, test_dir, dims, batch_size=2, shuffle=True, file_ext=\".mkv\"):\n",
    "        self.train_dir = train_dir\n",
    "        self.test_dir = test_dir\n",
    "        self.frames, self.width, self.height, self.channels = dims\n",
    "        self.batch_size = batch_size\n",
    "        self.shuffle = shuffle\n",
    "        self.file_ext = file_ext\n",
    "\n",
    "        self.filenames_train = self.get_filenames(train_dir)\n",
    "        if self.test_dir:\n",
    "            self.filenames_test = self.get_filenames(test_dir)\n",
    "\n",
    "        self.classname_by_id = {i: cls for i, cls in\n",
    "                                enumerate({os.path.basename(os.path.dirname(file)) for file in self.filenames_train})}\n",
    "        self.id_by_classname = {cls: i for i, cls in self.classname_by_id.items()}\n",
    "\n",
    "        self.n_classes = len(self.classname_by_id)\n",
    "        assert self.n_classes == len(\n",
    "            self.id_by_classname), \"Number of unique classes for training set isn't equal to testing set\"\n",
    "\n",
    "    def get_filenames(self, dir):\n",
    "        filenames = glob.glob(os.path.join(dir, f\"**/*{self.file_ext}\"))\n",
    "        return filenames\n",
    "    \n",
    "    # Extracts frames from clip using OpenCV\n",
    "    def vid2npy(self, filename):\n",
    "        cap = cv2.VideoCapture(filename)\n",
    "        frames =[]\n",
    "        while True:\n",
    "            ret, frame = cap.read()\n",
    "            if ret == True:\n",
    "                frame = cv2.resize(frame, (self.width,self.height), interpolation=cv2.INTER_AREA)\n",
    "                frames.append(frame)\n",
    "            else:\n",
    "                break\n",
    "        \n",
    "        output = np.array(frames)\n",
    "        output = output / 255\n",
    "                \n",
    "        return output\n",
    "\n",
    "    def generate(self, train_or_test, rotation_range=None, heigt_shift_range=None, width_shift_range=None,\n",
    "                 shear_range=None, zoom_range=None, horizontal_flip=None, vertical_flip=None, brightness_range=None):\n",
    "\n",
    "        if train_or_test == 'train':\n",
    "            dir = self.train_dir\n",
    "        elif train_or_test == 'test':\n",
    "            dir = self.test_dir\n",
    "        else:\n",
    "            raise ValueError\n",
    "\n",
    "        while True:\n",
    "            filenames = self.get_filenames(dir)\n",
    "            if self.shuffle:\n",
    "                random.shuffle(filenames)\n",
    "\n",
    "            n_batches = int(len(filenames) / self.batch_size)\n",
    "\n",
    "            for i in range(n_batches):\n",
    "                # print(f\"Slicing {i*self.batch_size}:{(i+1)*self.batch_size}\")\n",
    "                filenames_batch = filenames[i * self.batch_size:(i + 1) * self.batch_size]\n",
    "                x, y = self.__generate_data_frome_batch_file_names(filenames_batch)\n",
    "                yield x, y\n",
    "\n",
    "    def __generate_data_frome_batch_file_names(self, filenames_batch):\n",
    "        data = []\n",
    "        labels = []\n",
    "\n",
    "        for i, filename in enumerate(filenames_batch):\n",
    "            npy = self.vid2npy(filename)\n",
    "            try:\n",
    "                npy = npy[npy.files[0]] # If an npz file we need to get the data out using the filename as a key\n",
    "            except:\n",
    "                pass\n",
    "\n",
    "            if len(npy.shape) == 3:  # Add colour channel to B&W images\n",
    "                npy = np.expand_dims(npy, axis=-1)\n",
    "\n",
    "            data.append(npy)\n",
    "            label = os.path.basename(os.path.dirname(filename))\n",
    "            labels.append(self.id_by_classname[label])\n",
    "\n",
    "        x = np.stack(data)\n",
    "        y = self.list_of_integers_to_2d_onehots(labels)\n",
    "        return x, y\n",
    "\n",
    "\n",
    "\n",
    "    def list_of_integers_to_2d_onehots(self, integers):\n",
    "        array = [[1 if integers[sample] == cls else 0 for cls in range(self.n_classes)] for sample in range(len(integers))]\n",
    "        return np.array(array)"
   ]
  },
  {
   "cell_type": "code",
   "execution_count": 25,
   "metadata": {},
   "outputs": [],
   "source": [
    "test_dir = '../SoccerNet-code/data/test'\n",
    "train_dir = '../SoccerNet-code/data/train'\n",
    "dims = (250,224,224,3)"
   ]
  },
  {
   "cell_type": "code",
   "execution_count": 26,
   "metadata": {},
   "outputs": [],
   "source": [
    "videogen = VideoGenerator(train_dir, test_dir, dims)"
   ]
  },
  {
   "cell_type": "code",
   "execution_count": 34,
   "metadata": {},
   "outputs": [],
   "source": [
    "vgen = videogen.generate('train')"
   ]
  },
  {
   "cell_type": "code",
   "execution_count": null,
   "metadata": {},
   "outputs": [],
   "source": []
  }
 ],
 "metadata": {
  "kernelspec": {
   "display_name": "Python 3",
   "language": "python",
   "name": "python3"
  },
  "language_info": {
   "codemirror_mode": {
    "name": "ipython",
    "version": 3
   },
   "file_extension": ".py",
   "mimetype": "text/x-python",
   "name": "python",
   "nbconvert_exporter": "python",
   "pygments_lexer": "ipython3",
   "version": "3.7.3"
  }
 },
 "nbformat": 4,
 "nbformat_minor": 2
}
