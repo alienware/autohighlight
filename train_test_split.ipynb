{
 "cells": [
  {
   "cell_type": "markdown",
   "metadata": {},
   "source": [
    "# train_test_split development notebook\n",
    "## Code to perform stratified split on class examples into train and test sets for use with generator class\n",
    "\n",
    "Input format:\n",
    "\n",
    "data ====== class1\n",
    "        |\n",
    "        |== class2\n",
    "        |\n",
    "        |== class3\n",
    "        \n",
    "Output format:\n",
    "\n",
    "data ====== train ===== class1\n",
    "        |            |\n",
    "        |            |= class2\n",
    "        |            |\n",
    "        |            |= class3\n",
    "        |\n",
    "        |== test ====== class1\n",
    "                     |\n",
    "                     |= class2\n",
    "                     |\n",
    "                     |= class3\n",
    "        \n"
   ]
  },
  {
   "cell_type": "code",
   "execution_count": 12,
   "metadata": {},
   "outputs": [],
   "source": [
    "import random\n",
    "import shutil\n",
    "import os"
   ]
  },
  {
   "cell_type": "code",
   "execution_count": 28,
   "metadata": {},
   "outputs": [],
   "source": [
    "def train_test_split(root='./data', classes=['goals', 'nongoals'], split_ratio=0.8):\n",
    "    \n",
    "    # make train and test directories\n",
    "    current_dir = os.listdir(root)\n",
    "    train_dir = os.path.join(root, 'train')\n",
    "    test_dir = os.path.join(root, 'test')\n",
    "    \n",
    "    if 'train' not in current_dir:\n",
    "        os.mkdir(train_dir)\n",
    "    \n",
    "    if 'test' not in current_dir:\n",
    "        os.mkdir(test_dir)\n",
    "    \n",
    "    train_dir_content = os.listdir(train_dir)\n",
    "    test_dir_content = os.listdir(train_dir)\n",
    "    \n",
    "    for cls in classes:\n",
    "        cls_dir = os.path.join(root, cls)\n",
    "        print('Accessing files in ' + cls_dir)\n",
    "        cls_list = os.listdir(cls_dir)\n",
    "        \n",
    "        random.shuffle(cls_list)\n",
    "        split = round(len(cls_list) * split_ratio)\n",
    "        \n",
    "        cls_train_dir = os.path.join(train_dir, cls)\n",
    "        cls_test_dir = os.path.join(test_dir, cls)\n",
    "        \n",
    "        if cls not in train_dir_content:\n",
    "            os.mkdir(cls_train_dir)\n",
    "            \n",
    "        if cls not in test_dir_content:\n",
    "            os.mkdir(cls_test_dir)\n",
    "        \n",
    "        cls_train_set = cls_list[:split]\n",
    "        cls_test_set = cls_list[split:]\n",
    "        \n",
    "        for dir in cls_train_set:\n",
    "            shutil.copy2(os.path.join(cls_dir, dir), cls_train_dir)\n",
    "            \n",
    "        for dir in cls_test_set:\n",
    "            shutil.copy2(os.path.join(cls_dir, dir), cls_test_dir)"
   ]
  },
  {
   "cell_type": "code",
   "execution_count": 29,
   "metadata": {},
   "outputs": [
    {
     "name": "stdout",
     "output_type": "stream",
     "text": [
      "Accessing files in ../SoccerNet-code/data/goals\n",
      "Accessing files in ../SoccerNet-code/data/nongoals\n"
     ]
    }
   ],
   "source": [
    "train_test_split(root='../SoccerNet-code/data',\n",
    "                 classes=['goals', 'nongoals']\n",
    "                )"
   ]
  },
  {
   "cell_type": "code",
   "execution_count": 19,
   "metadata": {},
   "outputs": [
    {
     "name": "stdout",
     "output_type": "stream",
     "text": [
      "england_epl\t\t      README.md\r\n",
      "europe_uefa-champions-league  SoccerNet_V1.1_Commentaries.csv\r\n",
      "france_ligue-1\t\t      SoccerNet_V1.1_Features.csv\r\n",
      "germany_bundesliga\t      SoccerNet_V1.1_Labels.csv\r\n",
      "goals\t\t\t      SoccerNet_V1.1_Videos.csv\r\n",
      "italy_serie-a\t\t      spain_laliga\r\n",
      "nongoals\r\n"
     ]
    }
   ],
   "source": [
    "!ls ../SoccerNet-code/data"
   ]
  },
  {
   "cell_type": "code",
   "execution_count": 34,
   "metadata": {},
   "outputs": [
    {
     "name": "stdout",
     "output_type": "stream",
     "text": [
      "106.mkv  155.mkv  184.mkv  245.mkv  2.mkv    337.mkv  390.mkv  56.mkv  89.mkv\r\n",
      "107.mkv  156.mkv  190.mkv  264.mkv  315.mkv  343.mkv  391.mkv  5.mkv   91.mkv\r\n",
      "10.mkv\t 164.mkv  192.mkv  268.mkv  319.mkv  353.mkv  392.mkv  60.mkv  94.mkv\r\n",
      "120.mkv  165.mkv  193.mkv  274.mkv  31.mkv   358.mkv  395.mkv  61.mkv  98.mkv\r\n",
      "123.mkv  169.mkv  201.mkv  275.mkv  325.mkv  359.mkv  39.mkv   65.mkv  99.mkv\r\n",
      "135.mkv  173.mkv  209.mkv  278.mkv  329.mkv  360.mkv  3.mkv    76.mkv\r\n",
      "140.mkv  178.mkv  216.mkv  285.mkv  32.mkv   36.mkv   409.mkv  79.mkv\r\n",
      "145.mkv  179.mkv  222.mkv  288.mkv  331.mkv  383.mkv  40.mkv   7.mkv\r\n",
      "146.mkv  17.mkv   22.mkv   290.mkv  332.mkv  388.mkv  41.mkv   80.mkv\r\n",
      "147.mkv  183.mkv  230.mkv  294.mkv  335.mkv  389.mkv  45.mkv   81.mkv\r\n"
     ]
    }
   ],
   "source": [
    "!ls ../SoccerNet-code/data/test/goals"
   ]
  },
  {
   "cell_type": "code",
   "execution_count": null,
   "metadata": {},
   "outputs": [],
   "source": []
  }
 ],
 "metadata": {
  "kernelspec": {
   "display_name": "Python 3",
   "language": "python",
   "name": "python3"
  },
  "language_info": {
   "codemirror_mode": {
    "name": "ipython",
    "version": 3
   },
   "file_extension": ".py",
   "mimetype": "text/x-python",
   "name": "python",
   "nbconvert_exporter": "python",
   "pygments_lexer": "ipython3",
   "version": "3.7.3"
  }
 },
 "nbformat": 4,
 "nbformat_minor": 2
}
